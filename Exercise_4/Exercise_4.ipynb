{
 "cells": [
  {
   "cell_type": "markdown",
   "id": "9a8c24d4-4653-4cc6-a463-874ab5db4f79",
   "metadata": {},
   "source": [
    "# Практическое задание из раздела 4 - Дообучить модель классификации звука"
   ]
  },
  {
   "cell_type": "markdown",
   "id": "f2223de8-0dba-444f-8b3c-3ac05444a6a2",
   "metadata": {},
   "source": [
    "## Подготовка IDE"
   ]
  },
  {
   "cell_type": "markdown",
   "id": "af5fe7c5-39b2-427e-9569-711b2c651627",
   "metadata": {},
   "source": [
    "### Загрузим необходимые библиотеки"
   ]
  },
  {
   "cell_type": "code",
   "execution_count": 58,
   "id": "8aa702f3-14d6-431a-b32e-f58bb4d5d5b9",
   "metadata": {},
   "outputs": [],
   "source": [
    "from datasets import load_dataset, Audio\n",
    "from transformers import AutoFeatureExtractor, TrainingArguments, Trainer, AutoModelForAudioClassification\n",
    "\n",
    "from huggingface_hub import notebook_login\n",
    "\n",
    "import evaluate\n",
    "\n",
    "import numpy as np"
   ]
  },
  {
   "cell_type": "markdown",
   "id": "b2fcc1f5-8714-45fb-8413-112a6a59f4dc",
   "metadata": {},
   "source": [
    "## Аутентификация блокнота в HuggingFace"
   ]
  },
  {
   "cell_type": "markdown",
   "id": "63fa0096-f73d-45cb-82c5-590d169e5eb5",
   "metadata": {},
   "source": [
    "Для того, чтобы иметь возможность сохранить модель на HuggingFace Hub аутентифицируем блокнот:"
   ]
  },
  {
   "cell_type": "code",
   "execution_count": 59,
   "id": "125cd8cb-924b-4fa1-b1a3-fb79769d9294",
   "metadata": {},
   "outputs": [
    {
     "data": {
      "application/vnd.jupyter.widget-view+json": {
       "model_id": "7f66d4ad35024b5aac485373028df272",
       "version_major": 2,
       "version_minor": 0
      },
      "text/plain": [
       "VBox(children=(HTML(value='<center> <img\\nsrc=https://huggingface.co/front/assets/huggingface_logo-noborder.sv…"
      ]
     },
     "metadata": {},
     "output_type": "display_data"
    }
   ],
   "source": [
    "notebook_login()"
   ]
  },
  {
   "cell_type": "markdown",
   "id": "b0499a2b-9f2c-4c58-bfcc-8d9959e31425",
   "metadata": {},
   "source": [
    "## Подготовка датасета"
   ]
  },
  {
   "cell_type": "markdown",
   "id": "3049a250-fd63-4dff-8d39-727a52376487",
   "metadata": {},
   "source": [
    "### Описание полей датасета"
   ]
  },
  {
   "cell_type": "markdown",
   "id": "be378e01-a18b-4e8d-8495-77452c4e0d2c",
   "metadata": {},
   "source": [
    "Типы, связанные с каждым из полей данных, приведены ниже:\n",
    "- `file`: [string] - путь к соответствующему файлу с данными,\n",
    "- `audio`: содержит путь к звуковому файлу примера данных, \n",
    "- `array`: декодированная форма волны конкретного конкретного примера данных,\n",
    "- `sampling_rate`: частота дискретизации (семплирования) конкретного примера данных,\n",
    "- `genre`: признак классификации указывающий жанр конкретного примера данных."
   ]
  },
  {
   "cell_type": "markdown",
   "id": "8e3f94ad-3883-4061-bdbf-888a6c63460e",
   "metadata": {},
   "source": [
    "### Загрузка датасет"
   ]
  },
  {
   "cell_type": "code",
   "execution_count": 60,
   "id": "c7911247-67c7-4daa-9db1-7b0c9596e2e1",
   "metadata": {},
   "outputs": [
    {
     "name": "stderr",
     "output_type": "stream",
     "text": [
      "Found cached dataset gtzan (/home/artyom/.cache/huggingface/datasets/marsyas___gtzan/all/0.0.0/8bd0e23c2d9b2be30d36bc6834319772dff22a3bd28527996612386cef003910)\n"
     ]
    },
    {
     "data": {
      "application/vnd.jupyter.widget-view+json": {
       "model_id": "cb1d6ef3794b44a2b325afec97d9a235",
       "version_major": 2,
       "version_minor": 0
      },
      "text/plain": [
       "  0%|          | 0/1 [00:00<?, ?it/s]"
      ]
     },
     "metadata": {},
     "output_type": "display_data"
    },
    {
     "data": {
      "text/plain": [
       "DatasetDict({\n",
       "    train: Dataset({\n",
       "        features: ['file', 'audio', 'genre'],\n",
       "        num_rows: 999\n",
       "    })\n",
       "})"
      ]
     },
     "execution_count": 60,
     "metadata": {},
     "output_type": "execute_result"
    }
   ],
   "source": [
    "gtzan = load_dataset(\"marsyas/gtzan\", \"all\")\n",
    "gtzan"
   ]
  },
  {
   "cell_type": "markdown",
   "id": "e4d7b102-7658-4156-bab5-51d115f21822",
   "metadata": {},
   "source": [
    "Разделим датасет на тренировочное и тестовое подмножества. Выделим для тестового подмножества 10% от датасета:"
   ]
  },
  {
   "cell_type": "code",
   "execution_count": 61,
   "id": "2d978edf-d309-4924-a3f8-3d7cbb0dd51b",
   "metadata": {},
   "outputs": [
    {
     "name": "stderr",
     "output_type": "stream",
     "text": [
      "Loading cached split indices for dataset at /home/artyom/.cache/huggingface/datasets/marsyas___gtzan/all/0.0.0/8bd0e23c2d9b2be30d36bc6834319772dff22a3bd28527996612386cef003910/cache-52d2398c8e4ac745.arrow and /home/artyom/.cache/huggingface/datasets/marsyas___gtzan/all/0.0.0/8bd0e23c2d9b2be30d36bc6834319772dff22a3bd28527996612386cef003910/cache-3bcc56e346e4d81c.arrow\n"
     ]
    },
    {
     "name": "stdout",
     "output_type": "stream",
     "text": [
      "<class 'datasets.arrow_dataset.Dataset'>\n"
     ]
    },
    {
     "data": {
      "text/plain": [
       "DatasetDict({\n",
       "    train: Dataset({\n",
       "        features: ['file', 'audio', 'genre'],\n",
       "        num_rows: 899\n",
       "    })\n",
       "    test: Dataset({\n",
       "        features: ['file', 'audio', 'genre'],\n",
       "        num_rows: 100\n",
       "    })\n",
       "})"
      ]
     },
     "execution_count": 61,
     "metadata": {},
     "output_type": "execute_result"
    }
   ],
   "source": [
    "gtzan = gtzan['train'] # Обьект DatasetDict не имеет метода .train_test_split. Преобразуем DatasetDict в объект Dataset\n",
    "print(type(gtzan))\n",
    "\n",
    "gtzan = gtzan.train_test_split(seed=42, shuffle=True, test_size=0.1)\n",
    "gtzan"
   ]
  },
  {
   "cell_type": "markdown",
   "id": "c0fd50c6-e97e-403c-94ba-401179db35c8",
   "metadata": {},
   "source": [
    "Посмотрим на один из примеров датасета:"
   ]
  },
  {
   "cell_type": "code",
   "execution_count": 62,
   "id": "4daf9c6e-92a4-42e4-8bce-047e92591dd1",
   "metadata": {},
   "outputs": [
    {
     "data": {
      "text/plain": [
       "{'file': '/home/artyom/.cache/huggingface/datasets/downloads/extracted/26af6d86e0c979b46bcad90a661fea792ae66965860b310bdc366574d25d1457/genres/jazz/jazz.00059.wav',\n",
       " 'audio': {'path': '/home/artyom/.cache/huggingface/datasets/downloads/extracted/26af6d86e0c979b46bcad90a661fea792ae66965860b310bdc366574d25d1457/genres/jazz/jazz.00059.wav',\n",
       "  'array': array([-0.05224609,  0.04705811,  0.09838867, ...,  0.05691528,\n",
       "          0.06399536,  0.07427979]),\n",
       "  'sampling_rate': 22050},\n",
       " 'genre': 5}"
      ]
     },
     "execution_count": 62,
     "metadata": {},
     "output_type": "execute_result"
    }
   ],
   "source": [
    "gtzan[\"train\"][7]"
   ]
  },
  {
   "cell_type": "markdown",
   "id": "bdaddbe2-7dd6-4214-b366-39d490d96d30",
   "metadata": {},
   "source": [
    "Частота дескритизации примеров датасета 22050 Гц."
   ]
  },
  {
   "cell_type": "markdown",
   "id": "32e940ff-4ea6-4985-85e6-9a066418abf4",
   "metadata": {},
   "source": [
    "### Предварительная обработка данных"
   ]
  },
  {
   "cell_type": "markdown",
   "id": "56a27fad-a484-44c6-9352-5e103497a214",
   "metadata": {},
   "source": [
    "Аудио- и речевые модели требуют, чтобы входные данные были закодированы в формате, который модель может обрабатывать.  преобразование звука во входной формат осуществляется с помощью feature extractor модели. Подобно токенизаторам, 🤗 Transformers предоставляет удобный класс AutoFeatureExtractor, который может автоматически выбирать нужный экстрактор признаков для заданной модели. Начнем с инстанцирования экстрактора признаков для DistilHuBERT из предварительно обученной контрольной точки:"
   ]
  },
  {
   "cell_type": "code",
   "execution_count": 63,
   "id": "2f2bc39b-6958-4bae-99ec-33e6dc4b006e",
   "metadata": {},
   "outputs": [],
   "source": [
    "model_id = \"ntu-spml/distilhubert\"\n",
    "feature_extractor = AutoFeatureExtractor.from_pretrained(\n",
    "    model_id, do_normalize=True, return_attention_mask=True\n",
    ")"
   ]
  },
  {
   "cell_type": "markdown",
   "id": "795fbf55-dd57-48f6-b2ce-b5bdb8787075",
   "metadata": {},
   "source": [
    "Поскольку частота дискретизации модели и набора данных различна, перед передачей аудиофайла в программу извлечения признаков его необходимо передискретизировать до 16 000 Гц. Для этого сначала нужно получить частоту дискретизации модели от экстрактора признаков:"
   ]
  },
  {
   "cell_type": "code",
   "execution_count": 64,
   "id": "8744753f-1eca-494f-bb23-ae21300439c8",
   "metadata": {},
   "outputs": [
    {
     "data": {
      "text/plain": [
       "16000"
      ]
     },
     "execution_count": 64,
     "metadata": {},
     "output_type": "execute_result"
    }
   ],
   "source": [
    "sampling_rate = feature_extractor.sampling_rate\n",
    "sampling_rate"
   ]
  },
  {
   "cell_type": "markdown",
   "id": "7ac5004b-3acc-406d-a1f7-1f473737b7aa",
   "metadata": {},
   "source": [
    "#### Передескретизация датасета"
   ]
  },
  {
   "cell_type": "markdown",
   "id": "01d34526-d2bd-4c3d-be6b-b8d797d8b861",
   "metadata": {},
   "source": [
    "Используем метод cast_column для передескретизации частоты примеров датасета:"
   ]
  },
  {
   "cell_type": "code",
   "execution_count": 65,
   "id": "fd5a7e5b-d659-491e-8193-8f62498c0904",
   "metadata": {},
   "outputs": [],
   "source": [
    "gtzan = gtzan.cast_column(\"audio\", Audio(sampling_rate=sampling_rate))"
   ]
  },
  {
   "cell_type": "markdown",
   "id": "3071afc5-9fc0-4113-a84f-5888cc91fb29",
   "metadata": {},
   "source": [
    "Проверим частоту дескретизации прримера из датасета:"
   ]
  },
  {
   "cell_type": "code",
   "execution_count": 66,
   "id": "4948d543-5a97-48d3-a65e-2e846d687eb3",
   "metadata": {},
   "outputs": [
    {
     "data": {
      "text/plain": [
       "{'file': '/home/artyom/.cache/huggingface/datasets/downloads/extracted/26af6d86e0c979b46bcad90a661fea792ae66965860b310bdc366574d25d1457/genres/jazz/jazz.00059.wav',\n",
       " 'audio': {'path': '/home/artyom/.cache/huggingface/datasets/downloads/extracted/26af6d86e0c979b46bcad90a661fea792ae66965860b310bdc366574d25d1457/genres/jazz/jazz.00059.wav',\n",
       "  'array': array([-0.02912004,  0.06167509,  0.1367783 , ...,  0.04330518,\n",
       "          0.06990883,  0.05479369]),\n",
       "  'sampling_rate': 16000},\n",
       " 'genre': 5}"
      ]
     },
     "execution_count": 66,
     "metadata": {},
     "output_type": "execute_result"
    }
   ],
   "source": [
    "gtzan[\"train\"][7]"
   ]
  },
  {
   "cell_type": "markdown",
   "id": "149cf0f6-932a-4fad-bbf2-67b8a2823026",
   "metadata": {},
   "source": [
    "#### Масштабированием признаков"
   ]
  },
  {
   "cell_type": "markdown",
   "id": "3c2d98c0-8039-4b8f-b3e7-71983c5bf31c",
   "metadata": {},
   "source": [
    "Для нормальной работы модели нобходимо чтобы все значения признака находились в одном и том же динамическом диапазоне. Это позволит получить стабильность  и сходимость в процессе обучения. Перед тем, как предпринимать какие-либо действия по подготовке примеров датасета к обучению модели посмотрим какие значения средней и дисперсии имеют наши данные. Вычислим их для первого примера:"
   ]
  },
  {
   "cell_type": "code",
   "execution_count": 67,
   "id": "dd20f1e6-9254-451d-81fc-af4a02d240b2",
   "metadata": {},
   "outputs": [
    {
     "name": "stdout",
     "output_type": "stream",
     "text": [
      "Mean: 0.000185, Variance: 0.0493\n"
     ]
    }
   ],
   "source": [
    "# Выберем первый пример из датасета\n",
    "sample = gtzan[\"train\"][0][\"audio\"]\n",
    "\n",
    "# Рассчитаем среднее и дисперсию для первого примера\n",
    "print(f\"Mean: {np.mean(sample['array']):.3}, Variance: {np.var(sample['array']):.3}\")"
   ]
  },
  {
   "cell_type": "markdown",
   "id": "7fbce2ed-ad62-45dd-891a-76135a1b1841",
   "metadata": {},
   "source": [
    "Видно, что среднее значение уже близко к нулю, но дисперсия ближе к 0,05. Если бы дисперсия для выборки была больше, это могло бы вызвать проблемы с нашей моделью, так как динамический диапазон аудиоданных был бы очень мал и, следовательно, трудноразделим.\n",
    "Применим экстрактор признаков и посмотрим, что получится на выходе:"
   ]
  },
  {
   "cell_type": "code",
   "execution_count": 68,
   "id": "1b184b67-b890-4073-aece-421d8051b416",
   "metadata": {},
   "outputs": [
    {
     "name": "stdout",
     "output_type": "stream",
     "text": [
      "inputs keys: ['input_values', 'attention_mask']\n",
      "Mean: -7.45e-09, Variance: 1.0\n"
     ]
    }
   ],
   "source": [
    "inputs = feature_extractor(sample[\"array\"], sampling_rate=sample[\"sampling_rate\"])\n",
    "\n",
    "print(f\"inputs keys: {list(inputs.keys())}\")\n",
    "\n",
    "print(\n",
    "    f\"Mean: {np.mean(inputs['input_values']):.3}, Variance: {np.var(inputs['input_values']):.3}\"\n",
    ")"
   ]
  },
  {
   "cell_type": "markdown",
   "id": "8fa43997-0d52-40aa-a023-53ea018901a9",
   "metadata": {},
   "source": [
    "Cреднее значение теперь очень сильно приближается к нулю, а дисперсия - к единице! Именно в таком виде мы хотим получить наши аудиосэмплы перед подачей их в модель HuBERT.\n",
    "\n",
    "Определим функцию, которую мы можем применить ко всем примерам в наборе данных. Поскольку мы ожидаем, что длина аудиоклипов будет составлять 30 секунд, мы также будем обрезать все более длинные клипы, используя аргументы max_length и truncation в экстракторе признаков следующим образом:"
   ]
  },
  {
   "cell_type": "code",
   "execution_count": 69,
   "id": "edf586b3-ff27-4fb2-8509-8aaf058cd8a7",
   "metadata": {},
   "outputs": [],
   "source": [
    "max_duration = 30.0 # Ограничение на максимальную длительность звука.\r\n",
    "\r\n",
    "\r\n",
    "def preprocess_function(examples):\r\n",
    "    audio_arrays = [x[\"array\"] for x in examples[\"audio\"]]\r\n",
    "    inputs = feature_extractor(\r\n",
    "        audio_arrays,\r\n",
    "        sampling_rate=feature_extractor.sampling_rate,\r\n",
    "        max_length=int(feature_extractor.sampling_rate * max_duration),\r\n",
    "        truncation=True,\r\n",
    "        return_attention_mask=True,\r\n",
    "    )\r\n",
    "    return inputs"
   ]
  },
  {
   "cell_type": "markdown",
   "id": "11729f58-89ad-4c64-967d-d4dc29693a56",
   "metadata": {},
   "source": [
    "Применим ее к набору данных с помощью метода map(). Метод .map() поддерживает работу с пакетами сэмплов, что мы и сделаем, установив batched=True. По умолчанию размер пакета составляет 1000, но мы уменьшим его до 100, чтобы пиковая оперативная память оставалась в разумных пределах. Кроме того, для упрощения обучения мы удалим из набора данных столбцы audio и file.\n",
    "\n",
    "Примечание: Я произвожу подготовку датасета и обучение модели на локальной машине, поэтому могу увеличить параметр определяющий количество процессов обрабатывающих примеры набора данных num_proc больше 1. "
   ]
  },
  {
   "cell_type": "code",
   "execution_count": 70,
   "id": "8bd89982-370b-4836-b4f0-ea9c61e69989",
   "metadata": {},
   "outputs": [
    {
     "name": "stderr",
     "output_type": "stream",
     "text": [
      "Loading cached processed dataset at /home/artyom/.cache/huggingface/datasets/marsyas___gtzan/all/0.0.0/8bd0e23c2d9b2be30d36bc6834319772dff22a3bd28527996612386cef003910/cache-eb321a26dd5e68eb_*_of_00008.arrow\n",
      "Loading cached processed dataset at /home/artyom/.cache/huggingface/datasets/marsyas___gtzan/all/0.0.0/8bd0e23c2d9b2be30d36bc6834319772dff22a3bd28527996612386cef003910/cache-cf79401fb5431c39_*_of_00008.arrow\n"
     ]
    },
    {
     "data": {
      "text/plain": [
       "DatasetDict({\n",
       "    train: Dataset({\n",
       "        features: ['genre', 'input_values', 'attention_mask'],\n",
       "        num_rows: 899\n",
       "    })\n",
       "    test: Dataset({\n",
       "        features: ['genre', 'input_values', 'attention_mask'],\n",
       "        num_rows: 100\n",
       "    })\n",
       "})"
      ]
     },
     "execution_count": 70,
     "metadata": {},
     "output_type": "execute_result"
    }
   ],
   "source": [
    "gtzan_encoded = gtzan.map(\n",
    "    preprocess_function,\n",
    "    remove_columns=[\"audio\", \"file\"],\n",
    "    batched=True,\n",
    "    batch_size=100,\n",
    "    num_proc=8,\n",
    ")\n",
    "gtzan_encoded"
   ]
  },
  {
   "cell_type": "markdown",
   "id": "65ce182e-03fe-406a-ac8d-59b557d6e37f",
   "metadata": {},
   "source": [
    "#### Переименование столбцов"
   ]
  },
  {
   "cell_type": "markdown",
   "id": "52432873-b273-4504-baeb-b5c09e3bf64d",
   "metadata": {},
   "source": [
    "Для того чтобы Trainer мог обрабатывать метки классов, необходимо переименовать колонку genre в label:"
   ]
  },
  {
   "cell_type": "code",
   "execution_count": 71,
   "id": "c0416539-6811-4f25-83e1-f9296b99b3b5",
   "metadata": {},
   "outputs": [
    {
     "data": {
      "text/plain": [
       "DatasetDict({\n",
       "    train: Dataset({\n",
       "        features: ['label', 'input_values', 'attention_mask'],\n",
       "        num_rows: 899\n",
       "    })\n",
       "    test: Dataset({\n",
       "        features: ['label', 'input_values', 'attention_mask'],\n",
       "        num_rows: 100\n",
       "    })\n",
       "})"
      ]
     },
     "execution_count": 71,
     "metadata": {},
     "output_type": "execute_result"
    }
   ],
   "source": [
    "gtzan_encoded = gtzan_encoded.rename_column(\"genre\", \"label\")\n",
    "gtzan_encoded"
   ]
  },
  {
   "cell_type": "markdown",
   "id": "b62c6081-34e4-401c-b1f7-64658d533c2f",
   "metadata": {},
   "source": [
    "Теперь у нас есть подготовленный к обучению модели датасет. Перейдём к обучению модели."
   ]
  },
  {
   "cell_type": "markdown",
   "id": "698ec671-55d8-4df2-9878-de603adac667",
   "metadata": {},
   "source": [
    "#### Отображение целочисленных идентификаторов классов в строковые (человекочитаемые)"
   ]
  },
  {
   "cell_type": "markdown",
   "id": "d685839b-ff66-4a9e-b540-695d198f7616",
   "metadata": {},
   "source": [
    "Чтобы получить от модели человекочитаемый вывод, нам необходимо реализовать функцию перехода (отображения от целочисленных идентификаторов (например, 7) к человекочитаемым меткам классов (например, \"поп\") и обратно. Для этого можно использовать метод int2str() следующим образом:"
   ]
  },
  {
   "cell_type": "code",
   "execution_count": 72,
   "id": "f4384610-148b-4cee-a8cf-3f10823becfc",
   "metadata": {},
   "outputs": [
    {
     "data": {
      "text/plain": [
       "'pop'"
      ]
     },
     "execution_count": 72,
     "metadata": {},
     "output_type": "execute_result"
    }
   ],
   "source": [
    "id2label_fn = gtzan[\"train\"].features[\"genre\"].int2str\n",
    "id2label_fn(gtzan[\"train\"][0][\"genre\"])\n",
    "\n",
    "id2label = {\n",
    "    str(i): id2label_fn(i)\n",
    "    for i in range(len(gtzan_encoded[\"train\"].features[\"label\"].names))\n",
    "}\n",
    "label2id = {v: k for k, v in id2label.items()}\n",
    "\n",
    "id2label[\"7\"]"
   ]
  },
  {
   "cell_type": "markdown",
   "id": "bc3716b4-fff4-4f26-accf-f0de289e218b",
   "metadata": {},
   "source": [
    "## Обучение модели"
   ]
  },
  {
   "cell_type": "markdown",
   "id": "0d802aa1-5e1d-4a2a-a310-6c3458c77430",
   "metadata": {},
   "source": [
    "### Модель классификации аудио DistilHuBert"
   ]
  },
  {
   "cell_type": "markdown",
   "id": "9330ff25-71b9-4a11-88bf-c96ca9492bab",
   "metadata": {},
   "source": [
    "Сначала нужно загрузить модель для данной задачи. Для этого мы можем использовать класс AutoModelForAudioClassification, который автоматически добавит соответствующую классификационную голову в нашу предварительно обученную модель DistilHuBERT. Инстанцируем модели:"
   ]
  },
  {
   "cell_type": "code",
   "execution_count": 73,
   "id": "98dc197e-b792-483d-9f58-2922059090d6",
   "metadata": {},
   "outputs": [
    {
     "data": {
      "application/vnd.jupyter.widget-view+json": {
       "model_id": "fc3a0383a44f4f12a41c94babee4fa0b",
       "version_major": 2,
       "version_minor": 0
      },
      "text/plain": [
       "Downloading pytorch_model.bin:   0%|          | 0.00/94.8M [00:00<?, ?B/s]"
      ]
     },
     "metadata": {},
     "output_type": "display_data"
    }
   ],
   "source": [
    "num_labels = len(id2label)\n",
    "\n",
    "model = AutoModelForAudioClassification.from_pretrained(\n",
    "    # model_id,\n",
    "    \"artyomboyko/distilhubert-finetuned-gtzan\",\n",
    "    num_labels=num_labels,\n",
    "    label2id=label2id,\n",
    "    id2label=id2label,\n",
    ")"
   ]
  },
  {
   "cell_type": "markdown",
   "id": "818aeb45-0f51-422c-9c32-4af66d54feee",
   "metadata": {},
   "source": [
    "Следующим шагом является определение аргументов обучения, включая размер пакета, шаги накопления градиента, количество эпох обучения и скорость обучения:"
   ]
  },
  {
   "cell_type": "code",
   "execution_count": 74,
   "id": "249ea078-74b9-42e9-a71c-9f77290eb844",
   "metadata": {},
   "outputs": [],
   "source": [
    "model_name = model_id.split(\"/\")[-1] # Получим название модели из её ID\n",
    "# batch_size = 16 # (Нужно пробовать как у https://huggingface.co/Kurokabe/distilhubert-finetuned-gtzan-finetuned-gtzan)\n",
    "# gradient_accumulation_steps = 2\n",
    "# num_train_epochs = 10\n",
    "\n",
    "# training_args = TrainingArguments(\n",
    "#     f\"{model_name}-finetuned-gtzan\",\n",
    "#     evaluation_strategy=\"epoch\",\n",
    "#     save_strategy=\"epoch\",\n",
    "#     learning_rate=5e-5,\n",
    "#     adam_beta1 = 0.9,\n",
    "#     adam_beta2 = 0.999,\n",
    "#     adam_epsilon = 1e-08,\n",
    "#     lr_scheduler_type = 'linear',\n",
    "#     per_device_train_batch_size=batch_size,\n",
    "#     gradient_accumulation_steps=gradient_accumulation_steps,\n",
    "#     per_device_eval_batch_size=batch_size,\n",
    "#     num_train_epochs=num_train_epochs,\n",
    "#     warmup_ratio=0.1,\n",
    "#     logging_steps=5,\n",
    "#     load_best_model_at_end=True,\n",
    "#     metric_for_best_model=\"accuracy\",\n",
    "#     fp16=True,\n",
    "#     push_to_hub=True,\n",
    "# )\n",
    "\n",
    "model_name = model_id.split(\"/\")[-1]\n",
    "batch_size = 4\n",
    "gradient_accumulation_steps = 2\n",
    "num_train_epochs = 10\n",
    "\n",
    "training_args = TrainingArguments(\n",
    "    f\"{model_name}-finetuned-gtzan\",\n",
    "    evaluation_strategy=\"epoch\",\n",
    "    save_strategy=\"epoch\",\n",
    "    learning_rate=2e-6,\n",
    "    adam_beta1 = 0.9,\n",
    "    adam_beta2 = 0.999,\n",
    "    adam_epsilon = 1e-08,\n",
    "    lr_scheduler_type = 'linear',\n",
    "    per_device_train_batch_size=batch_size,\n",
    "    gradient_accumulation_steps=gradient_accumulation_steps,\n",
    "    per_device_eval_batch_size=batch_size,\n",
    "    num_train_epochs=num_train_epochs,\n",
    "    warmup_ratio=0.1,\n",
    "    logging_steps=5,\n",
    "    load_best_model_at_end=True,\n",
    "    metric_for_best_model=\"accuracy\",\n",
    "    fp16=True,\n",
    "    push_to_hub=True,\n",
    ")\n"
   ]
  },
  {
   "cell_type": "markdown",
   "id": "19969d12-a4ed-4e06-9b24-16fd49fecb64",
   "metadata": {},
   "source": [
    "Определим метрику по которой мы будем оценивать качество модели. Поскольку набор данных сбалансирован, в качестве метрики мы будем использовать accuracy и загружать ее с помощью библиотеки 🤗 Evaluate:"
   ]
  },
  {
   "cell_type": "code",
   "execution_count": 75,
   "id": "5b668bac-d2b6-40a4-b9b8-764a2fb4e02c",
   "metadata": {},
   "outputs": [],
   "source": [
    "metric = evaluate.load(\"accuracy\")\n",
    "\n",
    "\n",
    "def compute_metrics(eval_pred):\n",
    "    \"\"\"Computes accuracy on a batch of predictions\"\"\"\n",
    "    predictions = np.argmax(eval_pred.predictions, axis=1)\n",
    "    return metric.compute(predictions=predictions, references=eval_pred.label_ids)"
   ]
  },
  {
   "cell_type": "markdown",
   "id": "e2465b2c-8554-4b47-9fad-a85408a95671",
   "metadata": {},
   "source": [
    "Теперь у нас есть все необходимые компоненты! Давайте инстанцируем Trainer и обучим модель:"
   ]
  },
  {
   "cell_type": "code",
   "execution_count": 76,
   "id": "babd5577-c15d-483a-a5a4-41ecb20df511",
   "metadata": {
    "scrolled": true
   },
   "outputs": [
    {
     "name": "stderr",
     "output_type": "stream",
     "text": [
      "Cloning https://huggingface.co/artyomboyko/distilhubert-finetuned-gtzan into local empty directory.\n"
     ]
    },
    {
     "data": {
      "application/vnd.jupyter.widget-view+json": {
       "model_id": "965b1518e3214f238e9e10555fbc41db",
       "version_major": 2,
       "version_minor": 0
      },
      "text/plain": [
       "Download file pytorch_model.bin:   0%|          | 1.40k/90.4M [00:00<?, ?B/s]"
      ]
     },
     "metadata": {},
     "output_type": "display_data"
    },
    {
     "data": {
      "application/vnd.jupyter.widget-view+json": {
       "model_id": "cd1868a3e60a432090c3603038858f53",
       "version_major": 2,
       "version_minor": 0
      },
      "text/plain": [
       "Download file runs/Aug23_22-31-18_MSK-PC-01/events.out.tfevents.1692819085.MSK-PC-01.9812.0:   2%|2         | …"
      ]
     },
     "metadata": {},
     "output_type": "display_data"
    },
    {
     "data": {
      "application/vnd.jupyter.widget-view+json": {
       "model_id": "ac66e568c37b4193b5d15fc633b49e58",
       "version_major": 2,
       "version_minor": 0
      },
      "text/plain": [
       "Download file runs/Aug24_09-19-15_MSK-PC-01/events.out.tfevents.1692857970.MSK-PC-01.36881.0:  19%|#8        |…"
      ]
     },
     "metadata": {},
     "output_type": "display_data"
    },
    {
     "data": {
      "application/vnd.jupyter.widget-view+json": {
       "model_id": "cb12541c914241f6a6096d735af3b322",
       "version_major": 2,
       "version_minor": 0
      },
      "text/plain": [
       "Download file runs/Aug24_10-32-02_MSK-PC-01/events.out.tfevents.1692862329.MSK-PC-01.36881.2:  10%|9         |…"
      ]
     },
     "metadata": {},
     "output_type": "display_data"
    },
    {
     "data": {
      "application/vnd.jupyter.widget-view+json": {
       "model_id": "2b8592e6d59548c09b75c4bd87e18668",
       "version_major": 2,
       "version_minor": 0
      },
      "text/plain": [
       "Clean file runs/Aug24_09-19-15_MSK-PC-01/events.out.tfevents.1692857970.MSK-PC-01.36881.0:   2%|2         | 1.…"
      ]
     },
     "metadata": {},
     "output_type": "display_data"
    },
    {
     "data": {
      "application/vnd.jupyter.widget-view+json": {
       "model_id": "fbb10608cd1c4d5cb2b6ee52e486f258",
       "version_major": 2,
       "version_minor": 0
      },
      "text/plain": [
       "Download file runs/Aug24_09-53-04_MSK-PC-01/events.out.tfevents.1692859992.MSK-PC-01.36881.1:  19%|#8        |…"
      ]
     },
     "metadata": {},
     "output_type": "display_data"
    },
    {
     "data": {
      "application/vnd.jupyter.widget-view+json": {
       "model_id": "25b3b4663b394353831b7c5a47e41cbb",
       "version_major": 2,
       "version_minor": 0
      },
      "text/plain": [
       "Clean file runs/Aug24_10-32-02_MSK-PC-01/events.out.tfevents.1692862329.MSK-PC-01.36881.2:   1%|1         | 1.…"
      ]
     },
     "metadata": {},
     "output_type": "display_data"
    },
    {
     "data": {
      "application/vnd.jupyter.widget-view+json": {
       "model_id": "a9de7a2f5b394cf6bd82f33e903b90cd",
       "version_major": 2,
       "version_minor": 0
      },
      "text/plain": [
       "Download file runs/Aug25_11-58-17_MSK-PC-01/events.out.tfevents.1692953904.MSK-PC-01.742.0:   8%|8         | 1…"
      ]
     },
     "metadata": {},
     "output_type": "display_data"
    },
    {
     "data": {
      "application/vnd.jupyter.widget-view+json": {
       "model_id": "b42d625ba71b4faca91e8e6c9f89d581",
       "version_major": 2,
       "version_minor": 0
      },
      "text/plain": [
       "Download file runs/Aug24_19-13-45_MSK-PC-01/events.out.tfevents.1692893631.MSK-PC-01.2934.1:   4%|4         | …"
      ]
     },
     "metadata": {},
     "output_type": "display_data"
    },
    {
     "data": {
      "application/vnd.jupyter.widget-view+json": {
       "model_id": "efb294774f504c9d82d0ad67f27b9878",
       "version_major": 2,
       "version_minor": 0
      },
      "text/plain": [
       "Clean file runs/Aug24_09-53-04_MSK-PC-01/events.out.tfevents.1692859992.MSK-PC-01.36881.1:   2%|2         | 1.…"
      ]
     },
     "metadata": {},
     "output_type": "display_data"
    },
    {
     "data": {
      "application/vnd.jupyter.widget-view+json": {
       "model_id": "89ea5920de4642ccb58ea3bd8ae4290d",
       "version_major": 2,
       "version_minor": 0
      },
      "text/plain": [
       "Download file runs/Aug25_20-01-22_MSK-PC-01/events.out.tfevents.1692982913.MSK-PC-01.4900.0:  16%|#5        | …"
      ]
     },
     "metadata": {},
     "output_type": "display_data"
    },
    {
     "data": {
      "application/vnd.jupyter.widget-view+json": {
       "model_id": "24daf8f004174c35b016513c97debd34",
       "version_major": 2,
       "version_minor": 0
      },
      "text/plain": [
       "Clean file runs/Aug23_22-31-18_MSK-PC-01/events.out.tfevents.1692819085.MSK-PC-01.9812.0:   0%|          | 1.0…"
      ]
     },
     "metadata": {},
     "output_type": "display_data"
    },
    {
     "data": {
      "application/vnd.jupyter.widget-view+json": {
       "model_id": "b5f5311bd76d48499a0295894e808beb",
       "version_major": 2,
       "version_minor": 0
      },
      "text/plain": [
       "Download file runs/Aug24_18-35-56_MSK-PC-01/events.out.tfevents.1692891393.MSK-PC-01.2934.0:  19%|#8        | …"
      ]
     },
     "metadata": {},
     "output_type": "display_data"
    },
    {
     "data": {
      "application/vnd.jupyter.widget-view+json": {
       "model_id": "4ec98042e68842c5b69893ff9fac1b40",
       "version_major": 2,
       "version_minor": 0
      },
      "text/plain": [
       "Clean file runs/Aug25_11-58-17_MSK-PC-01/events.out.tfevents.1692953904.MSK-PC-01.742.0:   1%|          | 1.00…"
      ]
     },
     "metadata": {},
     "output_type": "display_data"
    },
    {
     "data": {
      "application/vnd.jupyter.widget-view+json": {
       "model_id": "75695b51aa5443eba4c01eebe2437d21",
       "version_major": 2,
       "version_minor": 0
      },
      "text/plain": [
       "Clean file runs/Aug24_19-13-45_MSK-PC-01/events.out.tfevents.1692893631.MSK-PC-01.2934.1:   1%|          | 1.0…"
      ]
     },
     "metadata": {},
     "output_type": "display_data"
    },
    {
     "data": {
      "application/vnd.jupyter.widget-view+json": {
       "model_id": "7f4fbacf33a54fe8bbed9309d14abc0e",
       "version_major": 2,
       "version_minor": 0
      },
      "text/plain": [
       "Download file runs/Aug24_22-24-18_MSK-PC-01/events.out.tfevents.1692905068.MSK-PC-01.21038.0: 100%|##########|…"
      ]
     },
     "metadata": {},
     "output_type": "display_data"
    },
    {
     "data": {
      "application/vnd.jupyter.widget-view+json": {
       "model_id": "0523f681cb4d456796937c25fe49618e",
       "version_major": 2,
       "version_minor": 0
      },
      "text/plain": [
       "Clean file runs/Aug25_20-01-22_MSK-PC-01/events.out.tfevents.1692982913.MSK-PC-01.4900.0:   1%|          | 1.0…"
      ]
     },
     "metadata": {},
     "output_type": "display_data"
    },
    {
     "data": {
      "application/vnd.jupyter.widget-view+json": {
       "model_id": "124f69e976534602a235f390587256f4",
       "version_major": 2,
       "version_minor": 0
      },
      "text/plain": [
       "Clean file runs/Aug24_18-35-56_MSK-PC-01/events.out.tfevents.1692891393.MSK-PC-01.2934.0:   2%|2         | 1.0…"
      ]
     },
     "metadata": {},
     "output_type": "display_data"
    },
    {
     "data": {
      "application/vnd.jupyter.widget-view+json": {
       "model_id": "1cab07ebfccc4f2aa10ea51dc4efb194",
       "version_major": 2,
       "version_minor": 0
      },
      "text/plain": [
       "Clean file runs/Aug24_22-24-18_MSK-PC-01/events.out.tfevents.1692905068.MSK-PC-01.21038.0:  19%|#8        | 1.…"
      ]
     },
     "metadata": {},
     "output_type": "display_data"
    },
    {
     "data": {
      "application/vnd.jupyter.widget-view+json": {
       "model_id": "d8b84be4175a41e8a84f8b7d45641b92",
       "version_major": 2,
       "version_minor": 0
      },
      "text/plain": [
       "Download file runs/Aug24_22-25-23_MSK-PC-01/events.out.tfevents.1692905133.MSK-PC-01.21038.1: 100%|##########|…"
      ]
     },
     "metadata": {},
     "output_type": "display_data"
    },
    {
     "data": {
      "application/vnd.jupyter.widget-view+json": {
       "model_id": "24c63ab288af44c59371b0ac332dbcca",
       "version_major": 2,
       "version_minor": 0
      },
      "text/plain": [
       "Clean file runs/Aug24_22-25-23_MSK-PC-01/events.out.tfevents.1692905133.MSK-PC-01.21038.1:   4%|4         | 1.…"
      ]
     },
     "metadata": {},
     "output_type": "display_data"
    },
    {
     "data": {
      "application/vnd.jupyter.widget-view+json": {
       "model_id": "5e5c3c2a9a214ee7befd8947c49abe94",
       "version_major": 2,
       "version_minor": 0
      },
      "text/plain": [
       "Download file runs/Aug25_21-47-28_MSK-PC-01/events.out.tfevents.1692989269.MSK-PC-01.4900.1:   3%|3         | …"
      ]
     },
     "metadata": {},
     "output_type": "display_data"
    },
    {
     "data": {
      "application/vnd.jupyter.widget-view+json": {
       "model_id": "d5e561c08bc848bfa8b249325cfac0c8",
       "version_major": 2,
       "version_minor": 0
      },
      "text/plain": [
       "Download file training_args.bin: 100%|##########| 3.87k/3.87k [00:00<?, ?B/s]"
      ]
     },
     "metadata": {},
     "output_type": "display_data"
    },
    {
     "data": {
      "application/vnd.jupyter.widget-view+json": {
       "model_id": "7f27c54189f74c9aae91beb678dbe966",
       "version_major": 2,
       "version_minor": 0
      },
      "text/plain": [
       "Clean file training_args.bin:  26%|##5       | 1.00k/3.87k [00:00<?, ?B/s]"
      ]
     },
     "metadata": {},
     "output_type": "display_data"
    },
    {
     "data": {
      "application/vnd.jupyter.widget-view+json": {
       "model_id": "3de2cc8423294086bc8b61f2e81711cf",
       "version_major": 2,
       "version_minor": 0
      },
      "text/plain": [
       "Clean file runs/Aug25_21-47-28_MSK-PC-01/events.out.tfevents.1692989269.MSK-PC-01.4900.1:   2%|2         | 1.0…"
      ]
     },
     "metadata": {},
     "output_type": "display_data"
    },
    {
     "data": {
      "application/vnd.jupyter.widget-view+json": {
       "model_id": "57d8250be1dd4f81ad8cf75342f8b3a7",
       "version_major": 2,
       "version_minor": 0
      },
      "text/plain": [
       "Clean file pytorch_model.bin:   0%|          | 1.00k/90.4M [00:00<?, ?B/s]"
      ]
     },
     "metadata": {},
     "output_type": "display_data"
    },
    {
     "name": "stderr",
     "output_type": "stream",
     "text": [
      "/home/artyom/.local/lib/python3.10/site-packages/transformers/optimization.py:411: FutureWarning: This implementation of AdamW is deprecated and will be removed in a future version. Use the PyTorch implementation torch.optim.AdamW instead, or set `no_deprecation_warning=True` to disable this warning\n",
      "  warnings.warn(\n"
     ]
    },
    {
     "data": {
      "text/html": [
       "\n",
       "    <div>\n",
       "      \n",
       "      <progress value='1120' max='1120' style='width:300px; height:20px; vertical-align: middle;'></progress>\n",
       "      [1120/1120 39:53, Epoch 9/10]\n",
       "    </div>\n",
       "    <table border=\"1\" class=\"dataframe\">\n",
       "  <thead>\n",
       " <tr style=\"text-align: left;\">\n",
       "      <th>Epoch</th>\n",
       "      <th>Training Loss</th>\n",
       "      <th>Validation Loss</th>\n",
       "      <th>Accuracy</th>\n",
       "    </tr>\n",
       "  </thead>\n",
       "  <tbody>\n",
       "    <tr>\n",
       "      <td>0</td>\n",
       "      <td>0.012800</td>\n",
       "      <td>0.754510</td>\n",
       "      <td>0.860000</td>\n",
       "    </tr>\n",
       "    <tr>\n",
       "      <td>2</td>\n",
       "      <td>0.001000</td>\n",
       "      <td>0.708037</td>\n",
       "      <td>0.870000</td>\n",
       "    </tr>\n",
       "    <tr>\n",
       "      <td>2</td>\n",
       "      <td>0.001200</td>\n",
       "      <td>0.778643</td>\n",
       "      <td>0.850000</td>\n",
       "    </tr>\n",
       "    <tr>\n",
       "      <td>4</td>\n",
       "      <td>0.001100</td>\n",
       "      <td>0.691400</td>\n",
       "      <td>0.870000</td>\n",
       "    </tr>\n",
       "    <tr>\n",
       "      <td>4</td>\n",
       "      <td>0.000800</td>\n",
       "      <td>0.718203</td>\n",
       "      <td>0.860000</td>\n",
       "    </tr>\n",
       "    <tr>\n",
       "      <td>6</td>\n",
       "      <td>0.000800</td>\n",
       "      <td>0.717233</td>\n",
       "      <td>0.860000</td>\n",
       "    </tr>\n",
       "    <tr>\n",
       "      <td>6</td>\n",
       "      <td>0.000700</td>\n",
       "      <td>0.736022</td>\n",
       "      <td>0.860000</td>\n",
       "    </tr>\n",
       "    <tr>\n",
       "      <td>8</td>\n",
       "      <td>0.000700</td>\n",
       "      <td>0.697270</td>\n",
       "      <td>0.870000</td>\n",
       "    </tr>\n",
       "    <tr>\n",
       "      <td>8</td>\n",
       "      <td>0.133600</td>\n",
       "      <td>0.725623</td>\n",
       "      <td>0.860000</td>\n",
       "    </tr>\n",
       "    <tr>\n",
       "      <td>9</td>\n",
       "      <td>0.000700</td>\n",
       "      <td>0.724089</td>\n",
       "      <td>0.860000</td>\n",
       "    </tr>\n",
       "  </tbody>\n",
       "</table><p>"
      ],
      "text/plain": [
       "<IPython.core.display.HTML object>"
      ]
     },
     "metadata": {},
     "output_type": "display_data"
    },
    {
     "data": {
      "text/plain": [
       "TrainOutput(global_step=1120, training_loss=0.005684835747108861, metrics={'train_runtime': 2395.0251, 'train_samples_per_second': 3.754, 'train_steps_per_second': 0.468, 'total_flos': 6.1073780918976e+17, 'train_loss': 0.005684835747108861, 'epoch': 9.96})"
      ]
     },
     "execution_count": 76,
     "metadata": {},
     "output_type": "execute_result"
    }
   ],
   "source": [
    "trainer = Trainer(\n",
    "    model,\n",
    "    training_args,\n",
    "    train_dataset=gtzan_encoded[\"train\"],\n",
    "    eval_dataset=gtzan_encoded[\"test\"],\n",
    "    tokenizer=feature_extractor,\n",
    "    compute_metrics=compute_metrics,\n",
    ")\n",
    "\n",
    "# trainer.train()\n",
    "trainer.train()"
   ]
  },
  {
   "cell_type": "markdown",
   "id": "95fb7b66-1c5a-4d83-9a19-0d68147fac00",
   "metadata": {},
   "source": [
    "Загрузим лучшую (из полученных в процессе обучения) модель на HuggingFace Hub:"
   ]
  },
  {
   "cell_type": "code",
   "execution_count": 22,
   "id": "2f9e82ad-88a8-496c-9f02-1e89f3915090",
   "metadata": {},
   "outputs": [
    {
     "data": {
      "application/vnd.jupyter.widget-view+json": {
       "model_id": "653d3612bc1f485ea098f2fb76d239ac",
       "version_major": 2,
       "version_minor": 0
      },
      "text/plain": [
       "Upload file runs/Aug25_11-58-17_MSK-PC-01/events.out.tfevents.1692953904.MSK-PC-01.742.0:   0%|          | 1.0…"
      ]
     },
     "metadata": {},
     "output_type": "display_data"
    },
    {
     "name": "stderr",
     "output_type": "stream",
     "text": [
      "To https://huggingface.co/artyomboyko/distilhubert-finetuned-gtzan\n",
      "   cdf1b56..73a8aea  main -> main\n",
      "\n",
      "To https://huggingface.co/artyomboyko/distilhubert-finetuned-gtzan\n",
      "   73a8aea..f07fac4  main -> main\n",
      "\n"
     ]
    },
    {
     "data": {
      "text/plain": [
       "'https://huggingface.co/artyomboyko/distilhubert-finetuned-gtzan/commit/73a8aea2055f9f43e217fcb9c85e676b60c020c0'"
      ]
     },
     "execution_count": 22,
     "metadata": {},
     "output_type": "execute_result"
    }
   ],
   "source": [
    "kwargs = {\n",
    "    \"dataset_tags\": \"marsyas/gtzan\",\n",
    "    \"dataset\": \"GTZAN\",\n",
    "    \"model_name\": f\"{model_name}-finetuned-gtzan\",\n",
    "    \"finetuned_from\": model_id,\n",
    "    \"tasks\": \"audio-classification\",\n",
    "}\n",
    "\n",
    "trainer.push_to_hub(**kwargs)"
   ]
  },
  {
   "cell_type": "markdown",
   "id": "768f71e4-a3c6-4c88-8012-0f3260baa9f1",
   "metadata": {},
   "source": [
    "Поробуем загрузить в Trainer контрольную точку и отправить ее в HuggingFace Hub:"
   ]
  },
  {
   "cell_type": "markdown",
   "id": "9a93d1f8-8057-40a8-bcba-2e4a58fdf018",
   "metadata": {},
   "source": [
    "## Пробная загрузка модели из промежуточной контрольной точки в HuggingFace Hub"
   ]
  },
  {
   "cell_type": "markdown",
   "id": "436d49ee-e1d0-4da6-bf5a-3a5c331aed1e",
   "metadata": {},
   "source": [
    "Загрузим наиболее удачную контрольную точку: "
   ]
  },
  {
   "cell_type": "code",
   "execution_count": 20,
   "id": "ccdc0119-9ef6-4d8f-b4c2-3f2573e89d85",
   "metadata": {},
   "outputs": [],
   "source": [
    "model = AutoModelForAudioClassification.from_pretrained(\"distilhubert-finetuned-gtzan/checkpoint-5287/\")"
   ]
  },
  {
   "cell_type": "code",
   "execution_count": 23,
   "id": "7bf50115-ad9c-45ca-a25e-4f8ee3d62054",
   "metadata": {},
   "outputs": [
    {
     "data": {
      "application/vnd.jupyter.widget-view+json": {
       "model_id": "9d3cbf4dfa5747669742e06d90502db3",
       "version_major": 2,
       "version_minor": 0
      },
      "text/plain": [
       "pytorch_model.bin:   0%|          | 0.00/94.8M [00:00<?, ?B/s]"
      ]
     },
     "metadata": {},
     "output_type": "display_data"
    },
    {
     "data": {
      "text/plain": [
       "CommitInfo(commit_url='https://huggingface.co/artyomboyko/distilhubert-finetuned-gtzan/commit/571b0a1d7c3f6f5cacac6a3f407c59c162db6ebc', commit_message='Upload HubertForSequenceClassification', commit_description='', oid='571b0a1d7c3f6f5cacac6a3f407c59c162db6ebc', pr_url=None, pr_revision=None, pr_num=None)"
      ]
     },
     "execution_count": 23,
     "metadata": {},
     "output_type": "execute_result"
    }
   ],
   "source": [
    "kwargs = {\n",
    "    \"dataset_tags\": \"marsyas/gtzan\",\n",
    "    \"dataset\": \"GTZAN\",\n",
    "    \"repo_id\": \"artyomboyko/distilhubert-finetuned-gtzan\",\n",
    "    \"model_name\": \"distilhubert-finetuned-gtzan\",\n",
    "    \"finetuned_from\": \"ntu-spml/distilhubert\",\n",
    "    \"tasks\": \"audio-classification\",\n",
    "}\n",
    "model.push_to_hub(**kwargs)"
   ]
  },
  {
   "cell_type": "markdown",
   "id": "43f2b16e-97aa-495c-ab13-ce3bda2d4527",
   "metadata": {},
   "source": [
    "## Демо Gradio"
   ]
  },
  {
   "cell_type": "code",
   "execution_count": null,
   "id": "96479e51-6b4c-4225-9af1-fe6cab4fbb3a",
   "metadata": {},
   "outputs": [
    {
     "name": "stderr",
     "output_type": "stream",
     "text": [
      "/tmp/ipykernel_3510/2299043183.py:27: GradioDeprecationWarning: Usage of gradio.outputs is deprecated, and will not be supported in the future, please import your components from gradio.components\n",
      "  outputs=gr.outputs.Label(),\n",
      "/tmp/ipykernel_3510/2299043183.py:27: GradioUnusedKwargWarning: You have unused kwarg parameters in Label, please remove them: {'type': 'auto'}\n",
      "  outputs=gr.outputs.Label(),\n",
      "/tmp/ipykernel_3510/2299043183.py:35: GradioDeprecationWarning: Usage of gradio.outputs is deprecated, and will not be supported in the future, please import your components from gradio.components\n",
      "  outputs=gr.outputs.Label(),\n",
      "/tmp/ipykernel_3510/2299043183.py:35: GradioUnusedKwargWarning: You have unused kwarg parameters in Label, please remove them: {'type': 'auto'}\n",
      "  outputs=gr.outputs.Label(),\n",
      "/home/artyom/.local/lib/python3.10/site-packages/gradio/blocks.py:934: UserWarning: api_name predict already exists, using predict_1\n",
      "  warnings.warn(\n"
     ]
    },
    {
     "name": "stdout",
     "output_type": "stream",
     "text": [
      "Running on local URL:  http://127.0.0.1:7863\n",
      "\n",
      "To create a public link, set `share=True` in `launch()`.\n"
     ]
    },
    {
     "data": {
      "text/html": [
       "<div><iframe src=\"http://127.0.0.1:7863/\" width=\"100%\" height=\"500\" allow=\"autoplay; camera; microphone; clipboard-read; clipboard-write;\" frameborder=\"0\" allowfullscreen></iframe></div>"
      ],
      "text/plain": [
       "<IPython.core.display.HTML object>"
      ]
     },
     "metadata": {},
     "output_type": "display_data"
    }
   ],
   "source": [
    "from transformers import pipeline\n",
    "import gradio as gr\n",
    "\n",
    "model_id = \"artyomboyko/distilhubert-finetuned-gtzan\"\n",
    "pipe = pipeline(\"audio-classification\", model=model_id)\n",
    "\n",
    "def classify_audio(filepath):\n",
    "    preds = pipe(filepath)\n",
    "    outputs = {}\n",
    "    for p in preds:\n",
    "        outputs[p[\"label\"]] = p[\"score\"]\n",
    "    return outputs\n",
    "\n",
    "\n",
    "demo = gr.Blocks()\n",
    "\n",
    "title = \"Classification of music\"\n",
    "description = \"\"\"\n",
    "This demo is designed to test the music classification. It is important to remember that music classification depends very much on the quality of the recording, for example, when classifying a recording from a \n",
    "microphone with poor high frequencies, the song \"Evanescence - bring me to life\" may not be correctly defined as classical music. But if we transfer a recording of the same song as a file, it is correctly \n",
    "identified as metal music. In addition, a real problem is caused by compositions in which there is a mixture of different styles of music, or modern styles of examples of which were not in the training dataset.\n",
    "\"\"\"\n",
    "\n",
    "mic_classify_audio = gr.Interface(\n",
    "    fn=classify_audio,\n",
    "    inputs=gr.Audio(source=\"microphone\", type=\"filepath\"),\n",
    "    outputs=gr.outputs.Label(),\n",
    "    title=title,\n",
    "    description=description,\n",
    ")\n",
    "\n",
    "file_classify_audio = gr.Interface(\n",
    "    fn=classify_audio,\n",
    "    inputs=gr.Audio(source=\"upload\", type=\"filepath\"),\n",
    "    outputs=gr.outputs.Label(),\n",
    "    #examples=[[\"./example.wav\"]],\n",
    "    title=title,\n",
    "    description=description,\n",
    ")\n",
    "\n",
    "with demo:\n",
    "    gr.TabbedInterface([mic_classify_audio, file_classify_audio], [\"Microphone\", \"Audio File\"])\n",
    "\n",
    "demo.launch(debug=True)"
   ]
  }
 ],
 "metadata": {
  "kernelspec": {
   "display_name": "Python 3 (ipykernel)",
   "language": "python",
   "name": "python3"
  },
  "language_info": {
   "codemirror_mode": {
    "name": "ipython",
    "version": 3
   },
   "file_extension": ".py",
   "mimetype": "text/x-python",
   "name": "python",
   "nbconvert_exporter": "python",
   "pygments_lexer": "ipython3",
   "version": "3.10.12"
  }
 },
 "nbformat": 4,
 "nbformat_minor": 5
}
