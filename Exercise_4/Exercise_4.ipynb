{
 "cells": [
  {
   "cell_type": "markdown",
   "id": "9a8c24d4-4653-4cc6-a463-874ab5db4f79",
   "metadata": {},
   "source": [
    "# Практическое задание из раздела 4 - Дообучить модель классификации звука"
   ]
  },
  {
   "cell_type": "markdown",
   "id": "f2223de8-0dba-444f-8b3c-3ac05444a6a2",
   "metadata": {},
   "source": [
    "## Подготовка IDE"
   ]
  },
  {
   "cell_type": "markdown",
   "id": "af5fe7c5-39b2-427e-9569-711b2c651627",
   "metadata": {},
   "source": [
    "### Загрузим необходимые библиотеки"
   ]
  },
  {
   "cell_type": "code",
   "execution_count": 1,
   "id": "8aa702f3-14d6-431a-b32e-f58bb4d5d5b9",
   "metadata": {},
   "outputs": [],
   "source": [
    "from datasets import load_dataset, Audio\n",
    "from transformers import AutoFeatureExtractor, TrainingArguments, Trainer\n",
    "from huggingface_hub import notebook_login\n",
    "\n",
    "import evaluate\n",
    "\n",
    "import numpy as np"
   ]
  },
  {
   "cell_type": "markdown",
   "id": "b2fcc1f5-8714-45fb-8413-112a6a59f4dc",
   "metadata": {},
   "source": [
    "## Аутентификация блокнота в HuggingFace"
   ]
  },
  {
   "cell_type": "markdown",
   "id": "63fa0096-f73d-45cb-82c5-590d169e5eb5",
   "metadata": {},
   "source": [
    "Для того, чтобы иметь возможность сохранить модель на HuggingFace Hub аутентифицируем блокнот:"
   ]
  },
  {
   "cell_type": "code",
   "execution_count": 2,
   "id": "125cd8cb-924b-4fa1-b1a3-fb79769d9294",
   "metadata": {},
   "outputs": [
    {
     "data": {
      "application/vnd.jupyter.widget-view+json": {
       "model_id": "3efe75951a6149c6a85dbddc7fe82f80",
       "version_major": 2,
       "version_minor": 0
      },
      "text/plain": [
       "VBox(children=(HTML(value='<center> <img\\nsrc=https://huggingface.co/front/assets/huggingface_logo-noborder.sv…"
      ]
     },
     "metadata": {},
     "output_type": "display_data"
    }
   ],
   "source": [
    "notebook_login()"
   ]
  },
  {
   "cell_type": "markdown",
   "id": "b0499a2b-9f2c-4c58-bfcc-8d9959e31425",
   "metadata": {},
   "source": [
    "## Подготовка датасета"
   ]
  },
  {
   "cell_type": "markdown",
   "id": "3049a250-fd63-4dff-8d39-727a52376487",
   "metadata": {},
   "source": [
    "### Описание полей датасета"
   ]
  },
  {
   "cell_type": "markdown",
   "id": "be378e01-a18b-4e8d-8495-77452c4e0d2c",
   "metadata": {},
   "source": [
    "Типы, связанные с каждым из полей данных, приведены ниже:\n",
    "- `file`: [string] - путь к соответствующему файлу с данными,\n",
    "- `audio`: содержит путь к звуковому файлу примера данных, \n",
    "- `array`: декодированная форма волны конкретного конкретного примера данных,\n",
    "- `sampling_rate`: частота дискретизации (семплирования) конкретного примера данных,\n",
    "- `genre`: признак классификации указывающий жанр конкретного примера данных."
   ]
  },
  {
   "cell_type": "markdown",
   "id": "8e3f94ad-3883-4061-bdbf-888a6c63460e",
   "metadata": {},
   "source": [
    "### Загрузка датасет"
   ]
  },
  {
   "cell_type": "code",
   "execution_count": 3,
   "id": "c7911247-67c7-4daa-9db1-7b0c9596e2e1",
   "metadata": {},
   "outputs": [
    {
     "name": "stderr",
     "output_type": "stream",
     "text": [
      "Found cached dataset gtzan (/home/artyom/.cache/huggingface/datasets/marsyas___gtzan/all/0.0.0/8bd0e23c2d9b2be30d36bc6834319772dff22a3bd28527996612386cef003910)\n"
     ]
    },
    {
     "data": {
      "application/vnd.jupyter.widget-view+json": {
       "model_id": "34cc1ce51f4c498a9ccd08fd9ab192bd",
       "version_major": 2,
       "version_minor": 0
      },
      "text/plain": [
       "  0%|          | 0/1 [00:00<?, ?it/s]"
      ]
     },
     "metadata": {},
     "output_type": "display_data"
    },
    {
     "data": {
      "text/plain": [
       "DatasetDict({\n",
       "    train: Dataset({\n",
       "        features: ['file', 'audio', 'genre'],\n",
       "        num_rows: 999\n",
       "    })\n",
       "})"
      ]
     },
     "execution_count": 3,
     "metadata": {},
     "output_type": "execute_result"
    }
   ],
   "source": [
    "gtzan = load_dataset(\"marsyas/gtzan\", \"all\")\n",
    "gtzan"
   ]
  },
  {
   "cell_type": "markdown",
   "id": "e4d7b102-7658-4156-bab5-51d115f21822",
   "metadata": {},
   "source": [
    "Разделим датасет на тренировочное и тестовое подмножества. Выделим для тестового подмножества 10% от датасета:"
   ]
  },
  {
   "cell_type": "code",
   "execution_count": 4,
   "id": "2d978edf-d309-4924-a3f8-3d7cbb0dd51b",
   "metadata": {},
   "outputs": [
    {
     "name": "stderr",
     "output_type": "stream",
     "text": [
      "Loading cached split indices for dataset at /home/artyom/.cache/huggingface/datasets/marsyas___gtzan/all/0.0.0/8bd0e23c2d9b2be30d36bc6834319772dff22a3bd28527996612386cef003910/cache-52d2398c8e4ac745.arrow and /home/artyom/.cache/huggingface/datasets/marsyas___gtzan/all/0.0.0/8bd0e23c2d9b2be30d36bc6834319772dff22a3bd28527996612386cef003910/cache-3bcc56e346e4d81c.arrow\n"
     ]
    },
    {
     "name": "stdout",
     "output_type": "stream",
     "text": [
      "<class 'datasets.arrow_dataset.Dataset'>\n"
     ]
    },
    {
     "data": {
      "text/plain": [
       "DatasetDict({\n",
       "    train: Dataset({\n",
       "        features: ['file', 'audio', 'genre'],\n",
       "        num_rows: 899\n",
       "    })\n",
       "    test: Dataset({\n",
       "        features: ['file', 'audio', 'genre'],\n",
       "        num_rows: 100\n",
       "    })\n",
       "})"
      ]
     },
     "execution_count": 4,
     "metadata": {},
     "output_type": "execute_result"
    }
   ],
   "source": [
    "gtzan = gtzan['train'] # Обьект DatasetDict не имеет метода .train_test_split. Преобразуем DatasetDict в объект Dataset\n",
    "print(type(gtzan))\n",
    "\n",
    "gtzan = gtzan.train_test_split(seed=42, shuffle=True, test_size=0.1)\n",
    "gtzan"
   ]
  },
  {
   "cell_type": "markdown",
   "id": "c0fd50c6-e97e-403c-94ba-401179db35c8",
   "metadata": {},
   "source": [
    "Посмотрим на один из примеров датасета:"
   ]
  },
  {
   "cell_type": "code",
   "execution_count": 5,
   "id": "4daf9c6e-92a4-42e4-8bce-047e92591dd1",
   "metadata": {},
   "outputs": [
    {
     "data": {
      "text/plain": [
       "{'file': '/home/artyom/.cache/huggingface/datasets/downloads/extracted/26af6d86e0c979b46bcad90a661fea792ae66965860b310bdc366574d25d1457/genres/jazz/jazz.00059.wav',\n",
       " 'audio': {'path': '/home/artyom/.cache/huggingface/datasets/downloads/extracted/26af6d86e0c979b46bcad90a661fea792ae66965860b310bdc366574d25d1457/genres/jazz/jazz.00059.wav',\n",
       "  'array': array([-0.05224609,  0.04705811,  0.09838867, ...,  0.05691528,\n",
       "          0.06399536,  0.07427979]),\n",
       "  'sampling_rate': 22050},\n",
       " 'genre': 5}"
      ]
     },
     "execution_count": 5,
     "metadata": {},
     "output_type": "execute_result"
    }
   ],
   "source": [
    "gtzan[\"train\"][7]"
   ]
  },
  {
   "cell_type": "markdown",
   "id": "bdaddbe2-7dd6-4214-b366-39d490d96d30",
   "metadata": {},
   "source": [
    "Частота дескритизации примеров датасета 22050 Гц."
   ]
  },
  {
   "cell_type": "markdown",
   "id": "32e940ff-4ea6-4985-85e6-9a066418abf4",
   "metadata": {},
   "source": [
    "### Предварительная обработка данных"
   ]
  },
  {
   "cell_type": "markdown",
   "id": "56a27fad-a484-44c6-9352-5e103497a214",
   "metadata": {},
   "source": [
    "Аудио- и речевые модели требуют, чтобы входные данные были закодированы в формате, который модель может обрабатывать.  преобразование звука во входной формат осуществляется с помощью feature extractor модели. Подобно токенизаторам, 🤗 Transformers предоставляет удобный класс AutoFeatureExtractor, который может автоматически выбирать нужный экстрактор признаков для заданной модели. Начнем с инстанцирования экстрактора признаков для DistilHuBERT из предварительно обученной контрольной точки:"
   ]
  },
  {
   "cell_type": "code",
   "execution_count": 6,
   "id": "2f2bc39b-6958-4bae-99ec-33e6dc4b006e",
   "metadata": {},
   "outputs": [],
   "source": [
    "model_id = \"ntu-spml/distilhubert\"\n",
    "feature_extractor = AutoFeatureExtractor.from_pretrained(\n",
    "    model_id, do_normalize=True, return_attention_mask=True\n",
    ")"
   ]
  },
  {
   "cell_type": "markdown",
   "id": "795fbf55-dd57-48f6-b2ce-b5bdb8787075",
   "metadata": {},
   "source": [
    "Поскольку частота дискретизации модели и набора данных различна, перед передачей аудиофайла в программу извлечения признаков его необходимо передискретизировать до 16 000 Гц. Для этого сначала нужно получить частоту дискретизации модели от экстрактора признаков:"
   ]
  },
  {
   "cell_type": "code",
   "execution_count": 7,
   "id": "8744753f-1eca-494f-bb23-ae21300439c8",
   "metadata": {},
   "outputs": [
    {
     "data": {
      "text/plain": [
       "16000"
      ]
     },
     "execution_count": 7,
     "metadata": {},
     "output_type": "execute_result"
    }
   ],
   "source": [
    "sampling_rate = feature_extractor.sampling_rate\n",
    "sampling_rate"
   ]
  },
  {
   "cell_type": "markdown",
   "id": "7ac5004b-3acc-406d-a1f7-1f473737b7aa",
   "metadata": {},
   "source": [
    "#### Передескретизация датасета"
   ]
  },
  {
   "cell_type": "markdown",
   "id": "01d34526-d2bd-4c3d-be6b-b8d797d8b861",
   "metadata": {},
   "source": [
    "Используем метод cast_column для передескретизации частоты примеров датасета:"
   ]
  },
  {
   "cell_type": "code",
   "execution_count": 8,
   "id": "fd5a7e5b-d659-491e-8193-8f62498c0904",
   "metadata": {},
   "outputs": [],
   "source": [
    "gtzan = gtzan.cast_column(\"audio\", Audio(sampling_rate=sampling_rate))"
   ]
  },
  {
   "cell_type": "markdown",
   "id": "3071afc5-9fc0-4113-a84f-5888cc91fb29",
   "metadata": {},
   "source": [
    "Проверим частоту дескретизации прримера из датасета:"
   ]
  },
  {
   "cell_type": "code",
   "execution_count": 9,
   "id": "4948d543-5a97-48d3-a65e-2e846d687eb3",
   "metadata": {},
   "outputs": [
    {
     "data": {
      "text/plain": [
       "{'file': '/home/artyom/.cache/huggingface/datasets/downloads/extracted/26af6d86e0c979b46bcad90a661fea792ae66965860b310bdc366574d25d1457/genres/jazz/jazz.00059.wav',\n",
       " 'audio': {'path': '/home/artyom/.cache/huggingface/datasets/downloads/extracted/26af6d86e0c979b46bcad90a661fea792ae66965860b310bdc366574d25d1457/genres/jazz/jazz.00059.wav',\n",
       "  'array': array([-0.02912004,  0.06167509,  0.1367783 , ...,  0.04330518,\n",
       "          0.06990883,  0.05479369]),\n",
       "  'sampling_rate': 16000},\n",
       " 'genre': 5}"
      ]
     },
     "execution_count": 9,
     "metadata": {},
     "output_type": "execute_result"
    }
   ],
   "source": [
    "gtzan[\"train\"][7]"
   ]
  },
  {
   "cell_type": "code",
   "execution_count": null,
   "id": "f04b5e72-5025-43fb-8831-1bfecaf6f5f7",
   "metadata": {},
   "outputs": [],
   "source": []
  },
  {
   "cell_type": "markdown",
   "id": "149cf0f6-932a-4fad-bbf2-67b8a2823026",
   "metadata": {},
   "source": [
    "#### Масштабированием признаков"
   ]
  },
  {
   "cell_type": "markdown",
   "id": "3c2d98c0-8039-4b8f-b3e7-71983c5bf31c",
   "metadata": {},
   "source": [
    "Для нормальной работы модели нобходимо чтобы все значения признака находились в одном и том же динамическом диапазоне. Это позволит получить стабильность  и сходимость в процессе обучения. Перед тем, как предпринимать какие-либо действия по подготовке примеров датасета к обучению модели посмотрим какие значения средней и дисперсии имеют наши данные. Вычислим их для первого примера:"
   ]
  },
  {
   "cell_type": "code",
   "execution_count": 10,
   "id": "dd20f1e6-9254-451d-81fc-af4a02d240b2",
   "metadata": {},
   "outputs": [
    {
     "name": "stdout",
     "output_type": "stream",
     "text": [
      "Mean: 0.000185, Variance: 0.0493\n"
     ]
    }
   ],
   "source": [
    "# Выберем первый пример из датасета\n",
    "sample = gtzan[\"train\"][0][\"audio\"]\n",
    "\n",
    "# Рассчитаем среднее и дисперсию для первого примера\n",
    "print(f\"Mean: {np.mean(sample['array']):.3}, Variance: {np.var(sample['array']):.3}\")"
   ]
  },
  {
   "cell_type": "markdown",
   "id": "7fbce2ed-ad62-45dd-891a-76135a1b1841",
   "metadata": {},
   "source": [
    "Видно, что среднее значение уже близко к нулю, но дисперсия ближе к 0,05. Если бы дисперсия для выборки была больше, это могло бы вызвать проблемы с нашей моделью, так как динамический диапазон аудиоданных был бы очень мал и, следовательно, трудноразделим.\n",
    "Применим экстрактор признаков и посмотрим, что получится на выходе:"
   ]
  },
  {
   "cell_type": "code",
   "execution_count": 11,
   "id": "1b184b67-b890-4073-aece-421d8051b416",
   "metadata": {},
   "outputs": [
    {
     "name": "stdout",
     "output_type": "stream",
     "text": [
      "inputs keys: ['input_values', 'attention_mask']\n",
      "Mean: -7.45e-09, Variance: 1.0\n"
     ]
    }
   ],
   "source": [
    "inputs = feature_extractor(sample[\"array\"], sampling_rate=sample[\"sampling_rate\"])\n",
    "\n",
    "print(f\"inputs keys: {list(inputs.keys())}\")\n",
    "\n",
    "print(\n",
    "    f\"Mean: {np.mean(inputs['input_values']):.3}, Variance: {np.var(inputs['input_values']):.3}\"\n",
    ")"
   ]
  },
  {
   "cell_type": "markdown",
   "id": "8fa43997-0d52-40aa-a023-53ea018901a9",
   "metadata": {},
   "source": [
    "Cреднее значение теперь очень сильно приближается к нулю, а дисперсия - к единице! Именно в таком виде мы хотим получить наши аудиосэмплы перед подачей их в модель HuBERT.\n",
    "\n",
    "Определим функцию, которую мы можем применить ко всем примерам в наборе данных. Поскольку мы ожидаем, что длина аудиоклипов будет составлять 30 секунд, мы также будем обрезать все более длинные клипы, используя аргументы max_length и truncation в экстракторе признаков следующим образом:"
   ]
  },
  {
   "cell_type": "code",
   "execution_count": 12,
   "id": "edf586b3-ff27-4fb2-8509-8aaf058cd8a7",
   "metadata": {},
   "outputs": [],
   "source": [
    "max_duration = 30.0 # Ограничение на максимальную длительность звука.\r\n",
    "\r\n",
    "\r\n",
    "def preprocess_function(examples):\r\n",
    "    audio_arrays = [x[\"array\"] for x in examples[\"audio\"]]\r\n",
    "    inputs = feature_extractor(\r\n",
    "        audio_arrays,\r\n",
    "        sampling_rate=feature_extractor.sampling_rate,\r\n",
    "        max_length=int(feature_extractor.sampling_rate * max_duration),\r\n",
    "        truncation=True,\r\n",
    "        return_attention_mask=True,\r\n",
    "    )\r\n",
    "    return inputs"
   ]
  },
  {
   "cell_type": "markdown",
   "id": "11729f58-89ad-4c64-967d-d4dc29693a56",
   "metadata": {},
   "source": [
    "Применим ее к набору данных с помощью метода map(). Метод .map() поддерживает работу с пакетами сэмплов, что мы и сделаем, установив batched=True. По умолчанию размер пакета составляет 1000, но мы уменьшим его до 100, чтобы пиковая оперативная память оставалась в разумных пределах. Кроме того, для упрощения обучения мы удалим из набора данных столбцы audio и file.\n",
    "\n",
    "Примечание: Я произвожу подготовку датасета и обучение модели на локальной машине, поэтому могу увеличить параметр определяющий количество процессов обрабатывающих примеры набора данных num_proc больше 1. "
   ]
  },
  {
   "cell_type": "code",
   "execution_count": 13,
   "id": "8bd89982-370b-4836-b4f0-ea9c61e69989",
   "metadata": {},
   "outputs": [
    {
     "name": "stderr",
     "output_type": "stream",
     "text": [
      "Loading cached processed dataset at /home/artyom/.cache/huggingface/datasets/marsyas___gtzan/all/0.0.0/8bd0e23c2d9b2be30d36bc6834319772dff22a3bd28527996612386cef003910/cache-eb321a26dd5e68eb_*_of_00008.arrow\n",
      "Loading cached processed dataset at /home/artyom/.cache/huggingface/datasets/marsyas___gtzan/all/0.0.0/8bd0e23c2d9b2be30d36bc6834319772dff22a3bd28527996612386cef003910/cache-cf79401fb5431c39_*_of_00008.arrow\n"
     ]
    },
    {
     "data": {
      "text/plain": [
       "DatasetDict({\n",
       "    train: Dataset({\n",
       "        features: ['genre', 'input_values', 'attention_mask'],\n",
       "        num_rows: 899\n",
       "    })\n",
       "    test: Dataset({\n",
       "        features: ['genre', 'input_values', 'attention_mask'],\n",
       "        num_rows: 100\n",
       "    })\n",
       "})"
      ]
     },
     "execution_count": 13,
     "metadata": {},
     "output_type": "execute_result"
    }
   ],
   "source": [
    "gtzan_encoded = gtzan.map(\n",
    "    preprocess_function,\n",
    "    remove_columns=[\"audio\", \"file\"],\n",
    "    batched=True,\n",
    "    batch_size=100,\n",
    "    num_proc=8,\n",
    ")\n",
    "gtzan_encoded"
   ]
  },
  {
   "cell_type": "markdown",
   "id": "65ce182e-03fe-406a-ac8d-59b557d6e37f",
   "metadata": {},
   "source": [
    "#### Переименование столбцов"
   ]
  },
  {
   "cell_type": "markdown",
   "id": "52432873-b273-4504-baeb-b5c09e3bf64d",
   "metadata": {},
   "source": [
    "Для того чтобы Trainer мог обрабатывать метки классов, необходимо переименовать колонку genre в label:"
   ]
  },
  {
   "cell_type": "code",
   "execution_count": 14,
   "id": "c0416539-6811-4f25-83e1-f9296b99b3b5",
   "metadata": {},
   "outputs": [
    {
     "data": {
      "text/plain": [
       "DatasetDict({\n",
       "    train: Dataset({\n",
       "        features: ['label', 'input_values', 'attention_mask'],\n",
       "        num_rows: 899\n",
       "    })\n",
       "    test: Dataset({\n",
       "        features: ['label', 'input_values', 'attention_mask'],\n",
       "        num_rows: 100\n",
       "    })\n",
       "})"
      ]
     },
     "execution_count": 14,
     "metadata": {},
     "output_type": "execute_result"
    }
   ],
   "source": [
    "gtzan_encoded = gtzan_encoded.rename_column(\"genre\", \"label\")\n",
    "gtzan_encoded"
   ]
  },
  {
   "cell_type": "markdown",
   "id": "b62c6081-34e4-401c-b1f7-64658d533c2f",
   "metadata": {},
   "source": [
    "Теперь у нас есть подготовленный к обучению модели датасет. Перейдём к обучению модели."
   ]
  },
  {
   "cell_type": "markdown",
   "id": "698ec671-55d8-4df2-9878-de603adac667",
   "metadata": {},
   "source": [
    "#### Отображение целочисленных идентификаторов классов в строковые (человекочитаемые)"
   ]
  },
  {
   "cell_type": "markdown",
   "id": "d685839b-ff66-4a9e-b540-695d198f7616",
   "metadata": {},
   "source": [
    "Чтобы получить от модели человекочитаемый вывод, нам необходимо реализовать функцию перехода (отображения от целочисленных идентификаторов (например, 7) к человекочитаемым меткам классов (например, \"поп\") и обратно. Для этого можно использовать метод int2str() следующим образом:"
   ]
  },
  {
   "cell_type": "code",
   "execution_count": 15,
   "id": "f4384610-148b-4cee-a8cf-3f10823becfc",
   "metadata": {},
   "outputs": [
    {
     "data": {
      "text/plain": [
       "'pop'"
      ]
     },
     "execution_count": 15,
     "metadata": {},
     "output_type": "execute_result"
    }
   ],
   "source": [
    "id2label_fn = gtzan[\"train\"].features[\"genre\"].int2str\n",
    "id2label_fn(gtzan[\"train\"][0][\"genre\"])\n",
    "\n",
    "id2label = {\n",
    "    str(i): id2label_fn(i)\n",
    "    for i in range(len(gtzan_encoded[\"train\"].features[\"label\"].names))\n",
    "}\n",
    "label2id = {v: k for k, v in id2label.items()}\n",
    "\n",
    "id2label[\"7\"]"
   ]
  },
  {
   "cell_type": "markdown",
   "id": "bc3716b4-fff4-4f26-accf-f0de289e218b",
   "metadata": {},
   "source": [
    "## Обучение модели"
   ]
  },
  {
   "cell_type": "markdown",
   "id": "0d802aa1-5e1d-4a2a-a310-6c3458c77430",
   "metadata": {},
   "source": [
    "### Модель классификации аудио DistilHuBert"
   ]
  },
  {
   "cell_type": "markdown",
   "id": "9330ff25-71b9-4a11-88bf-c96ca9492bab",
   "metadata": {},
   "source": [
    "Сначала нужно загрузить модель для данной задачи. Для этого мы можем использовать класс AutoModelForAudioClassification, который автоматически добавит соответствующую классификационную голову в нашу предварительно обученную модель DistilHuBERT. Инстанцируем модели:"
   ]
  },
  {
   "cell_type": "code",
   "execution_count": 16,
   "id": "98dc197e-b792-483d-9f58-2922059090d6",
   "metadata": {},
   "outputs": [
    {
     "name": "stderr",
     "output_type": "stream",
     "text": [
      "Some weights of HubertForSequenceClassification were not initialized from the model checkpoint at ntu-spml/distilhubert and are newly initialized: ['projector.bias', 'projector.weight', 'classifier.weight', 'classifier.bias']\n",
      "You should probably TRAIN this model on a down-stream task to be able to use it for predictions and inference.\n"
     ]
    }
   ],
   "source": [
    "from transformers import AutoModelForAudioClassification\n",
    "\n",
    "num_labels = len(id2label)\n",
    "\n",
    "model = AutoModelForAudioClassification.from_pretrained(\n",
    "    model_id,\n",
    "    num_labels=num_labels,\n",
    "    label2id=label2id,\n",
    "    id2label=id2label,\n",
    ")"
   ]
  },
  {
   "cell_type": "markdown",
   "id": "818aeb45-0f51-422c-9c32-4af66d54feee",
   "metadata": {},
   "source": [
    "Следующим шагом является определение аргументов обучения, включая размер пакета, шаги накопления градиента, количество эпох обучения и скорость обучения:"
   ]
  },
  {
   "cell_type": "code",
   "execution_count": 17,
   "id": "249ea078-74b9-42e9-a71c-9f77290eb844",
   "metadata": {},
   "outputs": [],
   "source": [
    "model_name = model_id.split(\"/\")[-1] # Получим название модели из её ID\n",
    "batch_size = 8\n",
    "gradient_accumulation_steps = 1\n",
    "num_train_epochs = 20\n",
    "\n",
    "training_args = TrainingArguments(\n",
    "    f\"{model_name}-finetuned-gtzan\",\n",
    "    evaluation_strategy=\"epoch\",\n",
    "    save_strategy=\"epoch\",\n",
    "    learning_rate=1e-5,\n",
    "    per_device_train_batch_size=batch_size,\n",
    "    gradient_accumulation_steps=gradient_accumulation_steps,\n",
    "    per_device_eval_batch_size=batch_size,\n",
    "    num_train_epochs=num_train_epochs,\n",
    "    warmup_ratio=0.1,\n",
    "    logging_steps=5,\n",
    "    load_best_model_at_end=True,\n",
    "    metric_for_best_model=\"accuracy\",\n",
    "    fp16=True,\n",
    "    push_to_hub=True,\n",
    ")"
   ]
  },
  {
   "cell_type": "markdown",
   "id": "19969d12-a4ed-4e06-9b24-16fd49fecb64",
   "metadata": {},
   "source": [
    "Определим метрику по которой мы будем оценивать качество модели. Поскольку набор данных сбалансирован, в качестве метрики мы будем использовать accuracy и загружать ее с помощью библиотеки 🤗 Evaluate:"
   ]
  },
  {
   "cell_type": "code",
   "execution_count": 18,
   "id": "5b668bac-d2b6-40a4-b9b8-764a2fb4e02c",
   "metadata": {},
   "outputs": [],
   "source": [
    "metric = evaluate.load(\"accuracy\")\n",
    "\n",
    "\n",
    "def compute_metrics(eval_pred):\n",
    "    \"\"\"Computes accuracy on a batch of predictions\"\"\"\n",
    "    predictions = np.argmax(eval_pred.predictions, axis=1)\n",
    "    return metric.compute(predictions=predictions, references=eval_pred.label_ids)"
   ]
  },
  {
   "cell_type": "markdown",
   "id": "e2465b2c-8554-4b47-9fad-a85408a95671",
   "metadata": {},
   "source": [
    "Теперь у нас есть все необходимые компоненты! Давайте инстанцируем Trainer и обучим модель:"
   ]
  },
  {
   "cell_type": "code",
   "execution_count": 19,
   "id": "babd5577-c15d-483a-a5a4-41ecb20df511",
   "metadata": {},
   "outputs": [
    {
     "name": "stderr",
     "output_type": "stream",
     "text": [
      "/home/artyom/HF_Audio_Course_Practical_tasks/Hands-on exercise 4/distilhubert-finetuned-gtzan is already a clone of https://huggingface.co/artyomboyko/distilhubert-finetuned-gtzan. Make sure you pull the latest changes with `repo.git_pull()`.\n"
     ]
    },
    {
     "ename": "OSError",
     "evalue": "warning: no common commits\nFrom https://huggingface.co/artyomboyko/distilhubert-finetuned-gtzan\n + ee8422d...0e29b3b main       -> origin/main  (forced update)\nhint: You have divergent branches and need to specify how to reconcile them.\nhint: You can do so by running one of the following commands sometime before\nhint: your next pull:\nhint: \nhint:   git config pull.rebase false  # merge (the default strategy)\nhint:   git config pull.rebase true   # rebase\nhint:   git config pull.ff only       # fast-forward only\nhint: \nhint: You can replace \"git config\" with \"git config --global\" to set a default\nhint: preference for all repositories. You can also pass --rebase, --no-rebase,\nhint: or --ff-only on the command line to override the configured default per\nhint: invocation.\nfatal: Need to specify how to reconcile divergent branches.\n",
     "output_type": "error",
     "traceback": [
      "\u001b[0;31m---------------------------------------------------------------------------\u001b[0m",
      "\u001b[0;31mCalledProcessError\u001b[0m                        Traceback (most recent call last)",
      "File \u001b[0;32m~/.local/lib/python3.10/site-packages/huggingface_hub/repository.py:984\u001b[0m, in \u001b[0;36mRepository.git_pull\u001b[0;34m(self, rebase, lfs)\u001b[0m\n\u001b[1;32m    983\u001b[0m \u001b[38;5;28;01mwith\u001b[39;00m _lfs_log_progress():\n\u001b[0;32m--> 984\u001b[0m     result \u001b[38;5;241m=\u001b[39m \u001b[43mrun_subprocess\u001b[49m\u001b[43m(\u001b[49m\u001b[43mcommand\u001b[49m\u001b[43m,\u001b[49m\u001b[43m \u001b[49m\u001b[38;5;28;43mself\u001b[39;49m\u001b[38;5;241;43m.\u001b[39;49m\u001b[43mlocal_dir\u001b[49m\u001b[43m)\u001b[49m\n\u001b[1;32m    985\u001b[0m     logger\u001b[38;5;241m.\u001b[39minfo(result\u001b[38;5;241m.\u001b[39mstdout)\n",
      "File \u001b[0;32m~/.local/lib/python3.10/site-packages/huggingface_hub/utils/_subprocess.py:83\u001b[0m, in \u001b[0;36mrun_subprocess\u001b[0;34m(command, folder, check, **kwargs)\u001b[0m\n\u001b[1;32m     81\u001b[0m     folder \u001b[38;5;241m=\u001b[39m \u001b[38;5;28mstr\u001b[39m(folder)\n\u001b[0;32m---> 83\u001b[0m \u001b[38;5;28;01mreturn\u001b[39;00m \u001b[43msubprocess\u001b[49m\u001b[38;5;241;43m.\u001b[39;49m\u001b[43mrun\u001b[49m\u001b[43m(\u001b[49m\n\u001b[1;32m     84\u001b[0m \u001b[43m    \u001b[49m\u001b[43mcommand\u001b[49m\u001b[43m,\u001b[49m\n\u001b[1;32m     85\u001b[0m \u001b[43m    \u001b[49m\u001b[43mstderr\u001b[49m\u001b[38;5;241;43m=\u001b[39;49m\u001b[43msubprocess\u001b[49m\u001b[38;5;241;43m.\u001b[39;49m\u001b[43mPIPE\u001b[49m\u001b[43m,\u001b[49m\n\u001b[1;32m     86\u001b[0m \u001b[43m    \u001b[49m\u001b[43mstdout\u001b[49m\u001b[38;5;241;43m=\u001b[39;49m\u001b[43msubprocess\u001b[49m\u001b[38;5;241;43m.\u001b[39;49m\u001b[43mPIPE\u001b[49m\u001b[43m,\u001b[49m\n\u001b[1;32m     87\u001b[0m \u001b[43m    \u001b[49m\u001b[43mcheck\u001b[49m\u001b[38;5;241;43m=\u001b[39;49m\u001b[43mcheck\u001b[49m\u001b[43m,\u001b[49m\n\u001b[1;32m     88\u001b[0m \u001b[43m    \u001b[49m\u001b[43mencoding\u001b[49m\u001b[38;5;241;43m=\u001b[39;49m\u001b[38;5;124;43m\"\u001b[39;49m\u001b[38;5;124;43mutf-8\u001b[39;49m\u001b[38;5;124;43m\"\u001b[39;49m\u001b[43m,\u001b[49m\n\u001b[1;32m     89\u001b[0m \u001b[43m    \u001b[49m\u001b[43merrors\u001b[49m\u001b[38;5;241;43m=\u001b[39;49m\u001b[38;5;124;43m\"\u001b[39;49m\u001b[38;5;124;43mreplace\u001b[39;49m\u001b[38;5;124;43m\"\u001b[39;49m\u001b[43m,\u001b[49m\u001b[43m  \u001b[49m\u001b[38;5;66;43;03m# if not utf-8, replace char by �\u001b[39;49;00m\n\u001b[1;32m     90\u001b[0m \u001b[43m    \u001b[49m\u001b[43mcwd\u001b[49m\u001b[38;5;241;43m=\u001b[39;49m\u001b[43mfolder\u001b[49m\u001b[43m \u001b[49m\u001b[38;5;129;43;01mor\u001b[39;49;00m\u001b[43m \u001b[49m\u001b[43mos\u001b[49m\u001b[38;5;241;43m.\u001b[39;49m\u001b[43mgetcwd\u001b[49m\u001b[43m(\u001b[49m\u001b[43m)\u001b[49m\u001b[43m,\u001b[49m\n\u001b[1;32m     91\u001b[0m \u001b[43m    \u001b[49m\u001b[38;5;241;43m*\u001b[39;49m\u001b[38;5;241;43m*\u001b[39;49m\u001b[43mkwargs\u001b[49m\u001b[43m,\u001b[49m\n\u001b[1;32m     92\u001b[0m \u001b[43m\u001b[49m\u001b[43m)\u001b[49m\n",
      "File \u001b[0;32m/usr/lib/python3.10/subprocess.py:526\u001b[0m, in \u001b[0;36mrun\u001b[0;34m(input, capture_output, timeout, check, *popenargs, **kwargs)\u001b[0m\n\u001b[1;32m    525\u001b[0m     \u001b[38;5;28;01mif\u001b[39;00m check \u001b[38;5;129;01mand\u001b[39;00m retcode:\n\u001b[0;32m--> 526\u001b[0m         \u001b[38;5;28;01mraise\u001b[39;00m CalledProcessError(retcode, process\u001b[38;5;241m.\u001b[39margs,\n\u001b[1;32m    527\u001b[0m                                  output\u001b[38;5;241m=\u001b[39mstdout, stderr\u001b[38;5;241m=\u001b[39mstderr)\n\u001b[1;32m    528\u001b[0m \u001b[38;5;28;01mreturn\u001b[39;00m CompletedProcess(process\u001b[38;5;241m.\u001b[39margs, retcode, stdout, stderr)\n",
      "\u001b[0;31mCalledProcessError\u001b[0m: Command '['git', 'pull']' returned non-zero exit status 128.",
      "\nDuring handling of the above exception, another exception occurred:\n",
      "\u001b[0;31mOSError\u001b[0m                                   Traceback (most recent call last)",
      "Cell \u001b[0;32mIn[19], line 1\u001b[0m\n\u001b[0;32m----> 1\u001b[0m trainer \u001b[38;5;241m=\u001b[39m \u001b[43mTrainer\u001b[49m\u001b[43m(\u001b[49m\n\u001b[1;32m      2\u001b[0m \u001b[43m    \u001b[49m\u001b[43mmodel\u001b[49m\u001b[43m,\u001b[49m\n\u001b[1;32m      3\u001b[0m \u001b[43m    \u001b[49m\u001b[43mtraining_args\u001b[49m\u001b[43m,\u001b[49m\n\u001b[1;32m      4\u001b[0m \u001b[43m    \u001b[49m\u001b[43mtrain_dataset\u001b[49m\u001b[38;5;241;43m=\u001b[39;49m\u001b[43mgtzan_encoded\u001b[49m\u001b[43m[\u001b[49m\u001b[38;5;124;43m\"\u001b[39;49m\u001b[38;5;124;43mtrain\u001b[39;49m\u001b[38;5;124;43m\"\u001b[39;49m\u001b[43m]\u001b[49m\u001b[43m,\u001b[49m\n\u001b[1;32m      5\u001b[0m \u001b[43m    \u001b[49m\u001b[43meval_dataset\u001b[49m\u001b[38;5;241;43m=\u001b[39;49m\u001b[43mgtzan_encoded\u001b[49m\u001b[43m[\u001b[49m\u001b[38;5;124;43m\"\u001b[39;49m\u001b[38;5;124;43mtest\u001b[39;49m\u001b[38;5;124;43m\"\u001b[39;49m\u001b[43m]\u001b[49m\u001b[43m,\u001b[49m\n\u001b[1;32m      6\u001b[0m \u001b[43m    \u001b[49m\u001b[43mtokenizer\u001b[49m\u001b[38;5;241;43m=\u001b[39;49m\u001b[43mfeature_extractor\u001b[49m\u001b[43m,\u001b[49m\n\u001b[1;32m      7\u001b[0m \u001b[43m    \u001b[49m\u001b[43mcompute_metrics\u001b[49m\u001b[38;5;241;43m=\u001b[39;49m\u001b[43mcompute_metrics\u001b[49m\u001b[43m,\u001b[49m\n\u001b[1;32m      8\u001b[0m \u001b[43m)\u001b[49m\n\u001b[1;32m     10\u001b[0m trainer\u001b[38;5;241m.\u001b[39mtrain()\n",
      "File \u001b[0;32m~/.local/lib/python3.10/site-packages/transformers/trainer.py:563\u001b[0m, in \u001b[0;36mTrainer.__init__\u001b[0;34m(self, model, args, data_collator, train_dataset, eval_dataset, tokenizer, model_init, compute_metrics, callbacks, optimizers, preprocess_logits_for_metrics)\u001b[0m\n\u001b[1;32m    561\u001b[0m \u001b[38;5;66;03m# Create clone of distant repo and output directory if needed\u001b[39;00m\n\u001b[1;32m    562\u001b[0m \u001b[38;5;28;01mif\u001b[39;00m \u001b[38;5;28mself\u001b[39m\u001b[38;5;241m.\u001b[39margs\u001b[38;5;241m.\u001b[39mpush_to_hub:\n\u001b[0;32m--> 563\u001b[0m     \u001b[38;5;28;43mself\u001b[39;49m\u001b[38;5;241;43m.\u001b[39;49m\u001b[43minit_git_repo\u001b[49m\u001b[43m(\u001b[49m\u001b[43mat_init\u001b[49m\u001b[38;5;241;43m=\u001b[39;49m\u001b[38;5;28;43;01mTrue\u001b[39;49;00m\u001b[43m)\u001b[49m\n\u001b[1;32m    564\u001b[0m     \u001b[38;5;66;03m# In case of pull, we need to make sure every process has the latest.\u001b[39;00m\n\u001b[1;32m    565\u001b[0m     \u001b[38;5;28;01mif\u001b[39;00m is_torch_tpu_available():\n",
      "File \u001b[0;32m~/.local/lib/python3.10/site-packages/transformers/trainer.py:3580\u001b[0m, in \u001b[0;36mTrainer.init_git_repo\u001b[0;34m(self, at_init)\u001b[0m\n\u001b[1;32m   3577\u001b[0m     \u001b[38;5;28;01melse\u001b[39;00m:\n\u001b[1;32m   3578\u001b[0m         \u001b[38;5;28;01mraise\u001b[39;00m\n\u001b[0;32m-> 3580\u001b[0m \u001b[38;5;28;43mself\u001b[39;49m\u001b[38;5;241;43m.\u001b[39;49m\u001b[43mrepo\u001b[49m\u001b[38;5;241;43m.\u001b[39;49m\u001b[43mgit_pull\u001b[49m\u001b[43m(\u001b[49m\u001b[43m)\u001b[49m\n\u001b[1;32m   3582\u001b[0m \u001b[38;5;66;03m# By default, ignore the checkpoint folders\u001b[39;00m\n\u001b[1;32m   3583\u001b[0m \u001b[38;5;28;01mif\u001b[39;00m (\n\u001b[1;32m   3584\u001b[0m     \u001b[38;5;129;01mnot\u001b[39;00m os\u001b[38;5;241m.\u001b[39mpath\u001b[38;5;241m.\u001b[39mexists(os\u001b[38;5;241m.\u001b[39mpath\u001b[38;5;241m.\u001b[39mjoin(\u001b[38;5;28mself\u001b[39m\u001b[38;5;241m.\u001b[39margs\u001b[38;5;241m.\u001b[39moutput_dir, \u001b[38;5;124m\"\u001b[39m\u001b[38;5;124m.gitignore\u001b[39m\u001b[38;5;124m\"\u001b[39m))\n\u001b[1;32m   3585\u001b[0m     \u001b[38;5;129;01mand\u001b[39;00m \u001b[38;5;28mself\u001b[39m\u001b[38;5;241m.\u001b[39margs\u001b[38;5;241m.\u001b[39mhub_strategy \u001b[38;5;241m!=\u001b[39m HubStrategy\u001b[38;5;241m.\u001b[39mALL_CHECKPOINTS\n\u001b[1;32m   3586\u001b[0m ):\n",
      "File \u001b[0;32m~/.local/lib/python3.10/site-packages/huggingface_hub/repository.py:987\u001b[0m, in \u001b[0;36mRepository.git_pull\u001b[0;34m(self, rebase, lfs)\u001b[0m\n\u001b[1;32m    985\u001b[0m         logger\u001b[38;5;241m.\u001b[39minfo(result\u001b[38;5;241m.\u001b[39mstdout)\n\u001b[1;32m    986\u001b[0m \u001b[38;5;28;01mexcept\u001b[39;00m subprocess\u001b[38;5;241m.\u001b[39mCalledProcessError \u001b[38;5;28;01mas\u001b[39;00m exc:\n\u001b[0;32m--> 987\u001b[0m     \u001b[38;5;28;01mraise\u001b[39;00m \u001b[38;5;167;01mEnvironmentError\u001b[39;00m(exc\u001b[38;5;241m.\u001b[39mstderr)\n",
      "\u001b[0;31mOSError\u001b[0m: warning: no common commits\nFrom https://huggingface.co/artyomboyko/distilhubert-finetuned-gtzan\n + ee8422d...0e29b3b main       -> origin/main  (forced update)\nhint: You have divergent branches and need to specify how to reconcile them.\nhint: You can do so by running one of the following commands sometime before\nhint: your next pull:\nhint: \nhint:   git config pull.rebase false  # merge (the default strategy)\nhint:   git config pull.rebase true   # rebase\nhint:   git config pull.ff only       # fast-forward only\nhint: \nhint: You can replace \"git config\" with \"git config --global\" to set a default\nhint: preference for all repositories. You can also pass --rebase, --no-rebase,\nhint: or --ff-only on the command line to override the configured default per\nhint: invocation.\nfatal: Need to specify how to reconcile divergent branches.\n"
     ]
    }
   ],
   "source": [
    "trainer = Trainer(\n",
    "    model,\n",
    "    training_args,\n",
    "    train_dataset=gtzan_encoded[\"train\"],\n",
    "    eval_dataset=gtzan_encoded[\"test\"],\n",
    "    tokenizer=feature_extractor,\n",
    "    compute_metrics=compute_metrics,\n",
    ")\n",
    "\n",
    "trainer.train()"
   ]
  },
  {
   "cell_type": "code",
   "execution_count": null,
   "id": "51e3ec7d-7b49-4610-afb0-bc2ca5ada399",
   "metadata": {},
   "outputs": [],
   "source": []
  },
  {
   "cell_type": "code",
   "execution_count": null,
   "id": "2f9e82ad-88a8-496c-9f02-1e89f3915090",
   "metadata": {},
   "outputs": [],
   "source": []
  },
  {
   "cell_type": "code",
   "execution_count": null,
   "id": "283c0b10-ecbb-45ef-85a1-33ac430d4d4a",
   "metadata": {},
   "outputs": [],
   "source": []
  },
  {
   "cell_type": "code",
   "execution_count": null,
   "id": "acbc5288-0ee6-432d-8485-926ead6744f7",
   "metadata": {},
   "outputs": [],
   "source": []
  },
  {
   "cell_type": "code",
   "execution_count": null,
   "id": "9b15ae2b-99c7-44a2-b971-411e7555f787",
   "metadata": {},
   "outputs": [],
   "source": []
  },
  {
   "cell_type": "code",
   "execution_count": null,
   "id": "4df656cb-0019-41ea-bbd5-ef17e16bb924",
   "metadata": {},
   "outputs": [],
   "source": []
  },
  {
   "cell_type": "code",
   "execution_count": null,
   "id": "4e825c6f-90ba-4baf-a226-7ff7157514b6",
   "metadata": {},
   "outputs": [],
   "source": []
  }
 ],
 "metadata": {
  "kernelspec": {
   "display_name": "Python 3 (ipykernel)",
   "language": "python",
   "name": "python3"
  },
  "language_info": {
   "codemirror_mode": {
    "name": "ipython",
    "version": 3
   },
   "file_extension": ".py",
   "mimetype": "text/x-python",
   "name": "python",
   "nbconvert_exporter": "python",
   "pygments_lexer": "ipython3",
   "version": "3.10.12"
  }
 },
 "nbformat": 4,
 "nbformat_minor": 5
}
