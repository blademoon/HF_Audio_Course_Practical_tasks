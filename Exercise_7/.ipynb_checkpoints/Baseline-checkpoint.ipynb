{
 "cells": [
  {
   "cell_type": "markdown",
   "id": "b45b0eaa-7268-41e6-abd9-ba279bab774b",
   "metadata": {},
   "source": [
    "# Исходное приложение"
   ]
  },
  {
   "cell_type": "code",
   "execution_count": 2,
   "id": "d8399390-8271-41a5-92de-ef886272a909",
   "metadata": {},
   "outputs": [
    {
     "name": "stderr",
     "output_type": "stream",
     "text": [
      "Found cached dataset cmu-arctic-xvectors (/home/artyom/.cache/huggingface/datasets/Matthijs___cmu-arctic-xvectors/default/0.0.1/a62fea1f9415e240301ea0042ffad2a3aadf4d1caa7f9a8d9512d631723e781f)\n",
      "/home/artyom/.local/lib/python3.10/site-packages/gradio/blocks.py:934: UserWarning: api_name predict already exists, using predict_1\n",
      "  warnings.warn(\n"
     ]
    },
    {
     "name": "stdout",
     "output_type": "stream",
     "text": [
      "\n",
      "Thanks for being a Gradio user! If you have questions or feedback, please join our Discord server and chat with us: https://discord.gg/feTf9x3ZSB\n",
      "Running on local URL:  http://127.0.0.1:7867\n",
      "\n",
      "To create a public link, set `share=True` in `launch()`.\n"
     ]
    },
    {
     "data": {
      "text/html": [
       "<div><iframe src=\"http://127.0.0.1:7867/\" width=\"100%\" height=\"500\" allow=\"autoplay; camera; microphone; clipboard-read; clipboard-write;\" frameborder=\"0\" allowfullscreen></iframe></div>"
      ],
      "text/plain": [
       "<IPython.core.display.HTML object>"
      ]
     },
     "metadata": {},
     "output_type": "display_data"
    },
    {
     "data": {
      "text/plain": []
     },
     "execution_count": 2,
     "metadata": {},
     "output_type": "execute_result"
    },
    {
     "name": "stderr",
     "output_type": "stream",
     "text": [
      "Traceback (most recent call last):\n",
      "  File \"/home/artyom/.local/lib/python3.10/site-packages/gradio/routes.py\", line 439, in run_predict\n",
      "    output = await app.get_blocks().process_api(\n",
      "  File \"/home/artyom/.local/lib/python3.10/site-packages/gradio/blocks.py\", line 1384, in process_api\n",
      "    result = await self.call_function(\n",
      "  File \"/home/artyom/.local/lib/python3.10/site-packages/gradio/blocks.py\", line 1089, in call_function\n",
      "    prediction = await anyio.to_thread.run_sync(\n",
      "  File \"/home/artyom/.local/lib/python3.10/site-packages/anyio/to_thread.py\", line 33, in run_sync\n",
      "    return await get_asynclib().run_sync_in_worker_thread(\n",
      "  File \"/home/artyom/.local/lib/python3.10/site-packages/anyio/_backends/_asyncio.py\", line 877, in run_sync_in_worker_thread\n",
      "    return await future\n",
      "  File \"/home/artyom/.local/lib/python3.10/site-packages/anyio/_backends/_asyncio.py\", line 807, in run\n",
      "    result = context.run(func, *args)\n",
      "  File \"/home/artyom/.local/lib/python3.10/site-packages/gradio/utils.py\", line 700, in wrapper\n",
      "    response = f(*args, **kwargs)\n",
      "  File \"/tmp/ipykernel_4062/107045370.py\", line 37, in speech_to_speech_translation\n",
      "    translated_text = translate(audio)\n",
      "  File \"/tmp/ipykernel_4062/107045370.py\", line 25, in translate\n",
      "    outputs = asr_pipe(audio, max_new_tokens=256, generate_kwargs = {\"language\":\"<|es|>\",\"task\": \"<|translate|>\"})\n",
      "  File \"/home/artyom/.local/lib/python3.10/site-packages/transformers/pipelines/automatic_speech_recognition.py\", line 272, in __call__\n",
      "    return super().__call__(inputs, **kwargs)\n",
      "  File \"/home/artyom/.local/lib/python3.10/site-packages/transformers/pipelines/base.py\", line 1112, in __call__\n",
      "    return next(\n",
      "  File \"/home/artyom/.local/lib/python3.10/site-packages/transformers/pipelines/pt_utils.py\", line 124, in __next__\n",
      "    item = next(self.iterator)\n",
      "  File \"/home/artyom/.local/lib/python3.10/site-packages/transformers/pipelines/pt_utils.py\", line 266, in __next__\n",
      "    processed = self.infer(next(self.iterator), **self.params)\n",
      "  File \"/home/artyom/.local/lib/python3.10/site-packages/transformers/pipelines/base.py\", line 1026, in forward\n",
      "    model_outputs = self._forward(model_inputs, **forward_params)\n",
      "  File \"/home/artyom/.local/lib/python3.10/site-packages/transformers/pipelines/automatic_speech_recognition.py\", line 445, in _forward\n",
      "    tokens = self.model.generate(\n",
      "  File \"/home/artyom/.local/lib/python3.10/site-packages/transformers/models/whisper/modeling_whisper.py\", line 1617, in generate\n",
      "    raise ValueError(\n",
      "ValueError: The `<|translate|>`task is not supported. The task should be one of `['translate', 'transcribe']`\n"
     ]
    }
   ],
   "source": [
    "import gradio as gr\n",
    "import numpy as np\n",
    "import torch\n",
    "from datasets import load_dataset\n",
    "\n",
    "from transformers import SpeechT5ForTextToSpeech, SpeechT5HifiGan, SpeechT5Processor, pipeline\n",
    "\n",
    "\n",
    "device = \"cuda:0\" if torch.cuda.is_available() else \"cpu\"\n",
    "\n",
    "# load speech translation checkpoint\n",
    "asr_pipe = pipeline(\"automatic-speech-recognition\", model=\"openai/whisper-base\", device=device)\n",
    "\n",
    "# load text-to-speech checkpoint and speaker embeddings\n",
    "processor = SpeechT5Processor.from_pretrained(\"microsoft/speecht5_tts\")\n",
    "\n",
    "model = SpeechT5ForTextToSpeech.from_pretrained(\"microsoft/speecht5_tts\").to(device)\n",
    "vocoder = SpeechT5HifiGan.from_pretrained(\"microsoft/speecht5_hifigan\").to(device)\n",
    "\n",
    "embeddings_dataset = load_dataset(\"Matthijs/cmu-arctic-xvectors\", split=\"validation\")\n",
    "speaker_embeddings = torch.tensor(embeddings_dataset[7306][\"xvector\"]).unsqueeze(0)\n",
    "\n",
    "\n",
    "def translate(audio):\n",
    "    outputs = asr_pipe(audio, max_new_tokens=256, generate_kwargs = {\"language\":\"<|es|>\",\"task\": \"translate\"})\n",
    "    print(outputs[\"text\"])\n",
    "    return outputs[\"text\"]\n",
    "\n",
    "\n",
    "def synthesise(text):\n",
    "    inputs = processor(text=text, return_tensors=\"pt\")\n",
    "    speech = model.generate_speech(inputs[\"input_ids\"].to(device), speaker_embeddings.to(device), vocoder=vocoder)\n",
    "    return speech.cpu()\n",
    "\n",
    "\n",
    "def speech_to_speech_translation(audio):\n",
    "    translated_text = translate(audio)\n",
    "    synthesised_speech = synthesise(translated_text)\n",
    "    synthesised_speech = (synthesised_speech.numpy() * 32767).astype(np.int16)\n",
    "    return 16000, synthesised_speech\n",
    "\n",
    "\n",
    "title = \"Cascaded STST\"\n",
    "description = \"\"\"\n",
    "Demo for cascaded speech-to-speech translation (STST), mapping from source speech in any language to target speech in English. Demo uses OpenAI's [Whisper Base](https://huggingface.co/openai/whisper-base) model for speech translation, and Microsoft's\n",
    "[SpeechT5 TTS](https://huggingface.co/microsoft/speecht5_tts) model for text-to-speech:\n",
    "![Cascaded STST](https://huggingface.co/datasets/huggingface-course/audio-course-images/resolve/main/s2st_cascaded.png \"Diagram of cascaded speech to speech translation\")\n",
    "\"\"\"\n",
    "\n",
    "demo = gr.Blocks()\n",
    "\n",
    "mic_translate = gr.Interface(\n",
    "    fn=speech_to_speech_translation,\n",
    "    inputs=gr.Audio(source=\"microphone\", type=\"filepath\"),\n",
    "    outputs=gr.Audio(label=\"Generated Speech\", type=\"numpy\"),\n",
    "    title=title,\n",
    "    description=description,\n",
    ")\n",
    "\n",
    "file_translate = gr.Interface(\n",
    "    fn=speech_to_speech_translation,\n",
    "    inputs=gr.Audio(source=\"upload\", type=\"filepath\"),\n",
    "    outputs=gr.Audio(label=\"Generated Speech\", type=\"numpy\"),\n",
    "    title=title,\n",
    "    description=description,\n",
    ")\n",
    "\n",
    "with demo:\n",
    "    gr.TabbedInterface([mic_translate, file_translate], [\"Microphone\", \"Audio File\"])\n",
    "\n",
    "demo.launch()"
   ]
  }
 ],
 "metadata": {
  "kernelspec": {
   "display_name": "Python 3 (ipykernel)",
   "language": "python",
   "name": "python3"
  },
  "language_info": {
   "codemirror_mode": {
    "name": "ipython",
    "version": 3
   },
   "file_extension": ".py",
   "mimetype": "text/x-python",
   "name": "python",
   "nbconvert_exporter": "python",
   "pygments_lexer": "ipython3",
   "version": "3.10.12"
  }
 },
 "nbformat": 4,
 "nbformat_minor": 5
}
