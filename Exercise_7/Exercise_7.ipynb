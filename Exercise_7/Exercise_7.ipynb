{
 "cells": [
  {
   "cell_type": "markdown",
   "id": "73edbb38-1080-4884-9709-fab783631ad6",
   "metadata": {},
   "source": [
    "# Практическое задание 7"
   ]
  },
  {
   "cell_type": "markdown",
   "id": "655e23a4-397d-4df5-ac96-55fe146590b3",
   "metadata": {},
   "source": [
    "## Задание"
   ]
  },
  {
   "cell_type": "markdown",
   "id": "72265af2-d5c4-4894-ac25-e86388724252",
   "metadata": {},
   "source": [
    "В этом разделе мы объединили материал, рассмотренный в предыдущих шести разделах курса, для создания трех интегрированных\n",
    "аудио приложений. Как вы убедились, создание более сложных аудио инструментов вполне достижимо при использовании базовых навыков работы \n",
    "приобретенных в рамках данного курса.\n",
    "\n",
    "В практическом занятии используется одно из приложений, рассматриваемых в данном разделе, которое расширяется с помощью нескольких многоязычных\n",
    "функций 🌍. Ваша задача - взять [каскадный перевод речи в речь из Gradio демо](https://huggingface.co/spaces/course-demos/speech-to-speech-translation)\n",
    "из первого урока данного раздела и модернизировать его для перевода на любой **неанглийский** язык. То есть демо\n",
    "должно принимать речь на языке X и переводить ее в речь на языке Y, где целевой язык Y не является английским.\n",
    "Начать следует с [дублирования](https://huggingface.co/spaces/course-demos/speech-to-speech-translation?duplicate=true) шаблона в вашем пространстве \n",
    "имен Hugging Face. Нет необходимости использовать GPU-ускоритель - бесплатный уровень подписки с CPU отлично справится с этой задачей 🤗.\n",
    "Однако следует убедиться, что видимость вашего демо установлена в **public**. Это необходимо для того, чтобы ваше демо было доступно для нас\n",
    "и могло быть проверено на корректность.\n",
    "\n",
    "Советы по обновлению функции перевода речи для выполнения многоязычного перевода приведены в разделе [перевод речи в речь](speech-to-speech). \n",
    "Следуя этим инструкциям, вы сможете обновить демо версию для перевода с речи на языке X в текст на языке Y, а это уже половина задачи!\n",
    "\n",
    "Для синтеза из текста на языке Y в речь на языке Y, где Y - многоязычный язык, вам потребуется использовать контрольную точку многоязычной модели TTS.\n",
    "\n",
    "Для этого можно использовать либо контрольную точку SpeechT5 TTS, которую вы дообучали на предыдущем практическом занятии, либо предварительно\n",
    "обученную контрольную точку многоязычной TTS. Существует два варианта предварительно обученных контрольных точек: либо контрольная точка\n",
    "[sanchit-gandhi/speecht5_tts_vox_nl](https://huggingface.co/sanchit-gandhi/speecht5_tts_vox_nl), которая представляет собой контрольную точку SpeechT5,\n",
    "дообученную на голландском фрагменте набора данных [VoxPopuli](https://huggingface.co/datasets/facebook/voxpopuli), либо контрольная точка MMS TTS\n",
    "(смотрите  раздел [предварительно обученные модели text-to-speech](../chapter6/pre-trained_models)).\n",
    "\n",
    "<Tip>\n",
    "    По нашему опыту экспериментов с голландским языком, использование контрольной точки MMS TTS дает лучшую производительность, чем\n",
    "    с дообученной SpeechT5, но вы можете обнаружить, что ваша дообученная контрольная точка TTS предпочтительнее для вашего языка.\n",
    "    Если вы решили использовать контрольную точку MMS TTS, вам необходимо обновить <a href=\"https://huggingface.co/spaces/course-demos/speech-to-speech-translation/blob/a03175878f522df7445290d5508bfb5c5178f787/requirements.txt#L2\">requirements.txt</a>\n",
    "    файл вашей демонстрации для установки <code>transformers</code> из ветки PR:\n",
    "    <p><code>git+https://github.com/hollance/transformers.git@6900e8ba6532162a8613d2270ec2286c3f58f57b</code></p>\n",
    "</Tip>\n",
    "\n",
    "Ваше демо должно принимать на вход аудиофайл, а на выходе возвращать другой аудиофайл, соответствующий сигнатуре функции \n",
    "[`speech_to_speech_translation`](https://huggingface.co/spaces/course-demos/speech-to-speech-translation/blob/3946ba6705a6632a63de8672ac52a482ab74b3fc/app.py#L35) в шаблоне демо.\n",
    "\n",
    "Поэтому мы рекомендуем оставить основную функцию `speech_to_speech_translation как есть, и обновлять лишь функции [`translate`](https://huggingface.co/spaces/course-demos/speech-to-speech-translation/blob/a03175878f522df7445290d5508bfb5c5178f787/app.py#L24)\n",
    " и [`synthesise`](https://huggingface.co/spaces/course-demos/speech-to-speech-translation/blob/a03175878f522df7445290d5508bfb5c5178f787/app.py#L29) по мере необходимости.\n",
    "\n",
    "После того как вы создали своё демо в виде приложения Gradio на Hugging Face Hub, вы можете отправить его на оценку. Перейдите в пространство \n",
    "[audio-course-u7-assessment](https://huggingface.co/spaces/huggingface-course/audio-course-u7-assessment) и при появлении запроса укажите идентификатор репозитория вашего демо.\n",
    "Этот пространство проверяет правильность сборки демо-версии, посылая образец аудиофайла в демо и проверяя, что возвращаемый аудиофайл действительно неанглийский.\n",
    "\n",
    "Если ваше демо работает корректно, вы получите зеленую галочку рядом с вашим именем в общем [пространстве прогресса](https://huggingface.co/spaces/MariaK/Check-my-progress-Audio-Course) ✅."
   ]
  },
  {
   "cell_type": "markdown",
   "id": "ef0c1a2e-f496-421d-95f9-afe227138557",
   "metadata": {},
   "source": [
    "## Решение"
   ]
  },
  {
   "cell_type": "code",
   "execution_count": 7,
   "id": "2fc4b2ba-ac85-4f95-934c-e0889c564bd7",
   "metadata": {},
   "outputs": [
    {
     "name": "stderr",
     "output_type": "stream",
     "text": [
      "/home/artyom/.local/lib/python3.10/site-packages/transformers/models/marian/tokenization_marian.py:194: UserWarning: Recommended: pip install sacremoses.\n",
      "  warnings.warn(\"Recommended: pip install sacremoses.\")\n",
      "Found cached dataset cmu-arctic-xvectors (/home/artyom/.cache/huggingface/datasets/Matthijs___cmu-arctic-xvectors/default/0.0.1/a62fea1f9415e240301ea0042ffad2a3aadf4d1caa7f9a8d9512d631723e781f)\n",
      "/home/artyom/.local/lib/python3.10/site-packages/gradio/blocks.py:934: UserWarning: api_name predict already exists, using predict_1\n",
      "  warnings.warn(\n"
     ]
    },
    {
     "name": "stdout",
     "output_type": "stream",
     "text": [
      "Running on local URL:  http://127.0.0.1:7866\n",
      "\n",
      "To create a public link, set `share=True` in `launch()`.\n"
     ]
    },
    {
     "data": {
      "text/html": [
       "<div><iframe src=\"http://127.0.0.1:7866/\" width=\"100%\" height=\"500\" allow=\"autoplay; camera; microphone; clipboard-read; clipboard-write;\" frameborder=\"0\" allowfullscreen></iframe></div>"
      ],
      "text/plain": [
       "<IPython.core.display.HTML object>"
      ]
     },
     "metadata": {},
     "output_type": "display_data"
    },
    {
     "data": {
      "text/plain": []
     },
     "execution_count": 7,
     "metadata": {},
     "output_type": "execute_result"
    },
    {
     "name": "stderr",
     "output_type": "stream",
     "text": [
      "/home/artyom/.local/lib/python3.10/site-packages/gradio/processing_utils.py:188: UserWarning: Trying to convert audio automatically from int32 to 16-bit int format.\n",
      "  warnings.warn(warning.format(data.dtype))\n"
     ]
    },
    {
     "name": "stdout",
     "output_type": "stream",
     "text": [
      "Eta mashina vzorvana.\n",
      "Eta mashina vzorvana.\n"
     ]
    },
    {
     "name": "stderr",
     "output_type": "stream",
     "text": [
      "/home/artyom/.local/lib/python3.10/site-packages/gradio/processing_utils.py:188: UserWarning: Trying to convert audio automatically from int32 to 16-bit int format.\n",
      "  warnings.warn(warning.format(data.dtype))\n"
     ]
    },
    {
     "name": "stdout",
     "output_type": "stream",
     "text": [
      "Eta mashina vzorvana.\n",
      "Eta mashina vzorvana.\n"
     ]
    },
    {
     "name": "stderr",
     "output_type": "stream",
     "text": [
      "/home/artyom/.local/lib/python3.10/site-packages/gradio/processing_utils.py:188: UserWarning: Trying to convert audio automatically from int32 to 16-bit int format.\n",
      "  warnings.warn(warning.format(data.dtype))\n"
     ]
    },
    {
     "name": "stdout",
     "output_type": "stream",
     "text": [
      "Zauz, davaj prostitutki, i ochen' horosho.\n",
      "Zauz, davaj prostitutki, i ochen' horosho.\n"
     ]
    },
    {
     "name": "stderr",
     "output_type": "stream",
     "text": [
      "/home/artyom/.local/lib/python3.10/site-packages/gradio/processing_utils.py:188: UserWarning: Trying to convert audio automatically from int32 to 16-bit int format.\n",
      "  warnings.warn(warning.format(data.dtype))\n"
     ]
    },
    {
     "name": "stdout",
     "output_type": "stream",
     "text": [
      "V'etnamskie prostitutki ochen' horoshi.\n",
      "V'etnamskie prostitutki ochen' horoshi.\n"
     ]
    }
   ],
   "source": [
    "import gradio as gr\n",
    "import numpy as np\n",
    "import torch\n",
    "from datasets import load_dataset\n",
    "\n",
    "from transformers import SpeechT5ForTextToSpeech, SpeechT5HifiGan, SpeechT5Processor, pipeline\n",
    "\n",
    "from transliterate import translit\n",
    "\n",
    "\n",
    "device = \"cuda:0\" if torch.cuda.is_available() else \"cpu\"\n",
    "\n",
    "# загрузить контрольную точку модели транскибации и перевода речи\n",
    "asr_pipe = pipeline(\"automatic-speech-recognition\", model=\"openai/whisper-base\", device=device)\n",
    "translate_pipe = pipeline(\"translation\", model=\"Helsinki-NLP/opus-mt-en-ru\")\n",
    "\n",
    "# Загрузим контрольную точку преобразования текста в речь и эбеддинги дикторов\n",
    "processor = SpeechT5Processor.from_pretrained(\"microsoft/speecht5_tts\")\n",
    "\n",
    "model = SpeechT5ForTextToSpeech.from_pretrained(\"microsoft/speecht5_tts\").to(device)\n",
    "vocoder = SpeechT5HifiGan.from_pretrained(\"microsoft/speecht5_hifigan\").to(device)\n",
    "\n",
    "embeddings_dataset = load_dataset(\"Matthijs/cmu-arctic-xvectors\", split=\"validation\")\n",
    "speaker_embeddings = torch.tensor(embeddings_dataset[7306][\"xvector\"]).unsqueeze(0)\n",
    "\n",
    "\n",
    "def translate(audio):\n",
    "    transcription = asr_pipe(audio, max_new_tokens=256, generate_kwargs={\"task\": \"transcribe\", \"language\": \"english\"})\n",
    "    translation = translate_pipe(transcription[\"text\"])\n",
    "    result = translit(translation[0]['translation_text'], \"ru\", reversed=True)\n",
    "    print(result)\n",
    "    return result\n",
    "\n",
    "\n",
    "def synthesise(text):\n",
    "    print(text)\n",
    "    inputs = processor(text=text, return_tensors=\"pt\")\n",
    "    speech = model.generate_speech(inputs[\"input_ids\"].to(device), speaker_embeddings.to(device), vocoder=vocoder)\n",
    "    return speech.cpu()\n",
    "\n",
    "\n",
    "def speech_to_speech_translation(audio):\n",
    "    translated_text = translate(audio)\n",
    "    synthesised_speech = synthesise(translated_text)\n",
    "    synthesised_speech = (synthesised_speech.numpy() * 32767).astype(np.int16)\n",
    "    return 16000, synthesised_speech\n",
    "\n",
    "\n",
    "title = \"Cascaded STST\"\n",
    "description = \"\"\"\n",
    "Demo for cascaded speech-to-speech translation (STST), mapping from source speech in any language to target speech in English. Demo uses OpenAI's [Whisper Base](https://huggingface.co/openai/whisper-base) model for speech translation, and Microsoft's\n",
    "[SpeechT5 TTS](https://huggingface.co/microsoft/speecht5_tts) model for text-to-speech:\n",
    "![Cascaded STST](https://huggingface.co/datasets/huggingface-course/audio-course-images/resolve/main/s2st_cascaded.png \"Diagram of cascaded speech to speech translation\")\n",
    "\"\"\"\n",
    "\n",
    "demo = gr.Blocks()\n",
    "\n",
    "mic_translate = gr.Interface(\n",
    "    fn=speech_to_speech_translation,\n",
    "    inputs=gr.Audio(source=\"microphone\", type=\"filepath\"),\n",
    "    outputs=gr.Audio(label=\"Generated Speech\", type=\"numpy\"),\n",
    "    title=title,\n",
    "    description=description,\n",
    ")\n",
    "\n",
    "file_translate = gr.Interface(\n",
    "    fn=speech_to_speech_translation,\n",
    "    inputs=gr.Audio(source=\"upload\", type=\"filepath\"),\n",
    "    outputs=gr.Audio(label=\"Generated Speech\", type=\"numpy\"),\n",
    "    examples=[[\"./example.wav\"]],\n",
    "    title=title,\n",
    "    description=description,\n",
    ")\n",
    "\n",
    "with demo:\n",
    "    gr.TabbedInterface([mic_translate, file_translate], [\"Microphone\", \"Audio File\"])\n",
    "\n",
    "demo.launch()\n"
   ]
  },
  {
   "cell_type": "code",
   "execution_count": null,
   "id": "288faf1e-38d3-4f7b-a970-4ef109c6c609",
   "metadata": {},
   "outputs": [],
   "source": []
  }
 ],
 "metadata": {
  "kernelspec": {
   "display_name": "Python 3 (ipykernel)",
   "language": "python",
   "name": "python3"
  },
  "language_info": {
   "codemirror_mode": {
    "name": "ipython",
    "version": 3
   },
   "file_extension": ".py",
   "mimetype": "text/x-python",
   "name": "python",
   "nbconvert_exporter": "python",
   "pygments_lexer": "ipython3",
   "version": "3.10.12"
  }
 },
 "nbformat": 4,
 "nbformat_minor": 5
}
