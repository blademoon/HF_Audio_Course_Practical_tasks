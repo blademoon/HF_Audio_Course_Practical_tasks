{
 "cells": [
  {
   "cell_type": "code",
   "execution_count": 12,
   "id": "de718aad-f6fd-4046-97bc-d35b5bce4052",
   "metadata": {},
   "outputs": [
    {
     "name": "stderr",
     "output_type": "stream",
     "text": [
      "/home/artyom/.local/lib/python3.10/site-packages/transformers/models/marian/tokenization_marian.py:194: UserWarning: Recommended: pip install sacremoses.\n",
      "  warnings.warn(\"Recommended: pip install sacremoses.\")\n"
     ]
    },
    {
     "name": "stdout",
     "output_type": "stream",
     "text": [
      "<class 'dict'>\n",
      "У этого устройства есть катод внутри клетки анодной проволоки.\n",
      "U etogo ustrojstva est' katod vnutri kletki anodnoj provoloki.\n"
     ]
    }
   ],
   "source": [
    "from transformers import SpeechT5ForTextToSpeech, SpeechT5HifiGan, SpeechT5Processor, pipeline\n",
    "import torch\n",
    "\n",
    "from transliterate import translit\n",
    "\n",
    "\n",
    "device = \"cuda:0\" if torch.cuda.is_available() else \"cpu\"\n",
    "audio = \"./audio.mp3\"\n",
    "\n",
    "\n",
    "asr_pipe = pipeline(\"automatic-speech-recognition\", model=\"openai/whisper-base\", device=device)\n",
    "translate_pipe = pipeline(\"translation\", model=\"Helsinki-NLP/opus-mt-en-ru\")\n",
    "\n",
    "\n",
    "\n",
    "transcription = asr_pipe(audio, max_new_tokens=256, generate_kwargs={\"task\": \"transcribe\", \"language\": \"english\"})\n",
    "result = translate_pipe(transcription[\"text\"])\n",
    "print(type(result[0]))\n",
    "print(result[0]['translation_text'])\n",
    "\n",
    "print(translit(result[0]['translation_text'], \"ru\", reversed=True))\n",
    "\n",
    "\n"
   ]
  },
  {
   "cell_type": "code",
   "execution_count": null,
   "id": "0baeb5b0-d41e-4166-a081-6aa32c508937",
   "metadata": {},
   "outputs": [],
   "source": []
  }
 ],
 "metadata": {
  "kernelspec": {
   "display_name": "Python 3 (ipykernel)",
   "language": "python",
   "name": "python3"
  },
  "language_info": {
   "codemirror_mode": {
    "name": "ipython",
    "version": 3
   },
   "file_extension": ".py",
   "mimetype": "text/x-python",
   "name": "python",
   "nbconvert_exporter": "python",
   "pygments_lexer": "ipython3",
   "version": "3.10.12"
  }
 },
 "nbformat": 4,
 "nbformat_minor": 5
}
