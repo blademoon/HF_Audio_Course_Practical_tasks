{
 "cells": [
  {
   "cell_type": "markdown",
   "id": "9a8c24d4-4653-4cc6-a463-874ab5db4f79",
   "metadata": {},
   "source": [
    "# Практическое задание из раздела 4 - Дообучить модель классификации звука"
   ]
  },
  {
   "cell_type": "markdown",
   "id": "f2223de8-0dba-444f-8b3c-3ac05444a6a2",
   "metadata": {},
   "source": [
    "## Подготовка IDE"
   ]
  },
  {
   "cell_type": "markdown",
   "id": "af5fe7c5-39b2-427e-9569-711b2c651627",
   "metadata": {},
   "source": [
    "### Загрузим необходимые библиотеки"
   ]
  },
  {
   "cell_type": "code",
   "execution_count": 4,
   "id": "8aa702f3-14d6-431a-b32e-f58bb4d5d5b9",
   "metadata": {},
   "outputs": [
    {
     "ename": "ImportError",
     "evalue": "cannot import name 'train_test_split' from 'datasets' (/home/artyom/.local/lib/python3.10/site-packages/datasets/__init__.py)",
     "output_type": "error",
     "traceback": [
      "\u001b[0;31m---------------------------------------------------------------------------\u001b[0m",
      "\u001b[0;31mImportError\u001b[0m                               Traceback (most recent call last)",
      "Cell \u001b[0;32mIn[4], line 1\u001b[0m\n\u001b[0;32m----> 1\u001b[0m \u001b[38;5;28;01mfrom\u001b[39;00m \u001b[38;5;21;01mdatasets\u001b[39;00m \u001b[38;5;28;01mimport\u001b[39;00m load_dataset, train_test_split\n",
      "\u001b[0;31mImportError\u001b[0m: cannot import name 'train_test_split' from 'datasets' (/home/artyom/.local/lib/python3.10/site-packages/datasets/__init__.py)"
     ]
    }
   ],
   "source": [
    "from datasets import load_dataset"
   ]
  },
  {
   "cell_type": "markdown",
   "id": "b0499a2b-9f2c-4c58-bfcc-8d9959e31425",
   "metadata": {},
   "source": [
    "## Подготовка датасета"
   ]
  },
  {
   "cell_type": "markdown",
   "id": "3049a250-fd63-4dff-8d39-727a52376487",
   "metadata": {},
   "source": [
    "## Описание полей датасета"
   ]
  },
  {
   "cell_type": "markdown",
   "id": "be378e01-a18b-4e8d-8495-77452c4e0d2c",
   "metadata": {},
   "source": [
    "Типы, связанные с каждым из полей данных, приведены ниже:\n",
    "- `file`: [string] - путь к соответствующему файлу с данными,\n",
    "- `audio`: содержит путь к звуковому файлу примера данных, \n",
    "- `array`: декодированная форма волны конкретного конкретного примера данных,\n",
    "- `sampling_rate`: частота дискретизации (семплирования) конкретного примера данных,\n",
    "- `genre`: признак классификации указывающий жанр конкретного примера данных."
   ]
  },
  {
   "cell_type": "markdown",
   "id": "8e3f94ad-3883-4061-bdbf-888a6c63460e",
   "metadata": {},
   "source": [
    "### Загрузка датасет"
   ]
  },
  {
   "cell_type": "code",
   "execution_count": 7,
   "id": "c7911247-67c7-4daa-9db1-7b0c9596e2e1",
   "metadata": {},
   "outputs": [
    {
     "name": "stderr",
     "output_type": "stream",
     "text": [
      "Found cached dataset gtzan (/home/artyom/.cache/huggingface/datasets/marsyas___gtzan/all/0.0.0/8bd0e23c2d9b2be30d36bc6834319772dff22a3bd28527996612386cef003910)\n"
     ]
    },
    {
     "data": {
      "application/vnd.jupyter.widget-view+json": {
       "model_id": "0c7c3aa0dd404f47afd75abcdb37948b",
       "version_major": 2,
       "version_minor": 0
      },
      "text/plain": [
       "  0%|          | 0/1 [00:00<?, ?it/s]"
      ]
     },
     "metadata": {},
     "output_type": "display_data"
    },
    {
     "data": {
      "text/plain": [
       "DatasetDict({\n",
       "    train: Dataset({\n",
       "        features: ['file', 'audio', 'genre'],\n",
       "        num_rows: 999\n",
       "    })\n",
       "})"
      ]
     },
     "execution_count": 7,
     "metadata": {},
     "output_type": "execute_result"
    }
   ],
   "source": [
    "gtzan = load_dataset(\"marsyas/gtzan\", \"all\")\n",
    "\n",
    "gtzan"
   ]
  },
  {
   "cell_type": "markdown",
   "id": "e4d7b102-7658-4156-bab5-51d115f21822",
   "metadata": {},
   "source": [
    "Разделим датасет на тренировочное и тестовое подмножества. Выделим для тестового подмножества 10% от датасета:"
   ]
  },
  {
   "cell_type": "code",
   "execution_count": 9,
   "id": "2d978edf-d309-4924-a3f8-3d7cbb0dd51b",
   "metadata": {},
   "outputs": [
    {
     "name": "stdout",
     "output_type": "stream",
     "text": [
      "<class 'datasets.arrow_dataset.Dataset'>\n"
     ]
    },
    {
     "data": {
      "text/plain": [
       "DatasetDict({\n",
       "    train: Dataset({\n",
       "        features: ['file', 'audio', 'genre'],\n",
       "        num_rows: 809\n",
       "    })\n",
       "    test: Dataset({\n",
       "        features: ['file', 'audio', 'genre'],\n",
       "        num_rows: 90\n",
       "    })\n",
       "})"
      ]
     },
     "execution_count": 9,
     "metadata": {},
     "output_type": "execute_result"
    }
   ],
   "source": [
    "gtzan = gtzan['train'] # Обьект DatasetDict не имеет метода .train_test_split. Преобразуем DatasetDict в объект Dataset\n",
    "print(type(gtzan))\n",
    "\n",
    "gtzan = gtzan.train_test_split(seed=42, shuffle=True, test_size=0.1)\n",
    "gtzan"
   ]
  },
  {
   "cell_type": "markdown",
   "id": "c0fd50c6-e97e-403c-94ba-401179db35c8",
   "metadata": {},
   "source": [
    "Посмотрим на один из примеров из датасета:"
   ]
  },
  {
   "cell_type": "code",
   "execution_count": 10,
   "id": "4daf9c6e-92a4-42e4-8bce-047e92591dd1",
   "metadata": {},
   "outputs": [
    {
     "data": {
      "text/plain": [
       "{'file': '/home/artyom/.cache/huggingface/datasets/downloads/extracted/26af6d86e0c979b46bcad90a661fea792ae66965860b310bdc366574d25d1457/genres/rock/rock.00061.wav',\n",
       " 'audio': {'path': '/home/artyom/.cache/huggingface/datasets/downloads/extracted/26af6d86e0c979b46bcad90a661fea792ae66965860b310bdc366574d25d1457/genres/rock/rock.00061.wav',\n",
       "  'array': array([-0.16629028, -0.16043091, -0.15036011, ...,  0.0057373 ,\n",
       "         -0.0010376 , -0.00213623]),\n",
       "  'sampling_rate': 22050},\n",
       " 'genre': 9}"
      ]
     },
     "execution_count": 10,
     "metadata": {},
     "output_type": "execute_result"
    }
   ],
   "source": [
    "gtzan[\"train\"][7]"
   ]
  },
  {
   "cell_type": "code",
   "execution_count": null,
   "id": "cc06484a-7540-4fb0-a403-2291d5d68e5f",
   "metadata": {},
   "outputs": [],
   "source": []
  }
 ],
 "metadata": {
  "kernelspec": {
   "display_name": "Python 3 (ipykernel)",
   "language": "python",
   "name": "python3"
  },
  "language_info": {
   "codemirror_mode": {
    "name": "ipython",
    "version": 3
   },
   "file_extension": ".py",
   "mimetype": "text/x-python",
   "name": "python",
   "nbconvert_exporter": "python",
   "pygments_lexer": "ipython3",
   "version": "3.10.12"
  }
 },
 "nbformat": 4,
 "nbformat_minor": 5
}
